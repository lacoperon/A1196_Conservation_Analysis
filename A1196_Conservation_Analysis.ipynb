{
 "cells": [
  {
   "cell_type": "markdown",
   "metadata": {},
   "source": [
    "# A1196 Conservation Analysis\n",
    "*Elliot Williams*\n",
    "\n",
    "*August 13th, 2019*\n",
    "\n",
    "\n",
    "**Note to users of this code**: Let me know! I would definitely be interested in whatever it is being used for.\n",
    "Also, if you publish anything using it, please cite me!\n",
    "\n",
    "\n",
    "Question: **Is A1196/A1427 (*S. cerevisiae* / *E. coli* numbering) of the 18S/16S rRNA well conserved within RSCB deposited ribosome-structures? Is this also true of C1054?**\n",
    "\n",
    "## Background\n",
    "\n",
    "The Weir Lab has been conducting MD simulations of the region of the ribosome within a 35 angstrom sphere surrounding G530 of the 16S/18S rRNA. The structures for these simulations were obtained from the five cryo-EM translocation intermediate structures obtained from [this paper](https://elifesciences.org/articles/14874), out of the Korostelev research group out of UMass Medical School.\n",
    "\n",
    "Within these simulations (presumably), it has been noticed that A1196 (which base stacks with C1054) transiently interacts via Hoogsteen/Watson-Crick base pairing with the second nucleotide of the incoming A-site codon, raising the question of a model in which the codon:anticodon base pairing is extended to 5 base pairs.\n",
    "\n",
    "The goals of this assessment is to find out whether or not the A1427 residue is well-conserved in the [RCSB](http://www.rcsb.org/)-deposited ribosome structures available. Additionally, as C1054 has been shown to [interact with the mRNA](https://academic.oup.com/nar/article/44/13/6036/2457638) during molecular dynamics simulations (as well as during our own Korostelev structure simulations), it would be interesting to look at conservation of this base within structures as well.\n",
    "\n",
    "One would expect that conservation of a residue, either on an intraspecies or interspecies level, would suggest mechanistic importance of the residue to the ribosome's function; so, getting a sense of a particular residue's level of conservation will allow us, by proxy, to get at a residue's functional importance.\n",
    "\n",
    "If we find intraspecies conservation but not interspecies conservation, we might expect that the residue is important for the ribosome's function at a species-specific level. If no conservation is found at all, it is unlikely that the residue has high functional relevance.\n",
    "\n",
    "With all of this background stated before I taint my thoughts with the analysis at hand, let us move forward to the task at hand.\n",
    "\n",
    "\n"
   ]
  },
  {
   "cell_type": "markdown",
   "metadata": {},
   "source": [
    "## Data Collection\n",
    "\n",
    "### Data Source Description\n",
    "\n",
    "The data I am collecting to conduct my analysis is sourced from the [RCSB](http://www.rcsb.org/), an online database of Protein Data Bank (PDB) files representing the 3D shapes of proteins, nucleic acids, and complex assemblies.\n",
    "\n",
    "### RCSB API implementation\n",
    "\n",
    "I'm reusing a RCSB API implementation I made last year to fetch data from the website, defined within `rcsb_api.py`.\n",
    "\n",
    "The benefit of this is that I can get any data I please, if I implement the API logic.\n",
    "The drawback is that any new queries must be implemented. \n",
    "\n",
    "See [PyPDB](http://www.wgilpin.com/pypdb_docs/html/) for a more \n",
    "mature project with more limited functionality."
   ]
  },
  {
   "cell_type": "code",
   "execution_count": 1,
   "metadata": {},
   "outputs": [],
   "source": [
    "# All dependencies, including the rcsb_api.py dependencies (of `requests`, `lxml`, `pandas`),\n",
    "# should be installed for this to work properly.\n",
    "\n",
    "# Additionally, you should install Clustal Omega to do the alignment later on\n",
    "# Example:\n",
    "# 1) Download the executable version from clustal.org/omega/\n",
    "# 2) Run `sudo mv [CLUSTAL_OMEGA_PATH] /usr/bin/clustalo`\n",
    "# 3) Run `sudo chmod +x /usr/bin/clustalo` to make it executable\n",
    "\n",
    "# First, let's import the RCSB Python API I defined\n",
    "import rcsb_api as rcsb\n",
    "import pandas as pd\n",
    "\n",
    "# And let's set the pandas display variables\n",
    "pd.set_option('display.max_colwidth', 80)\n",
    "pd.set_option('display.max_rows', 50)"
   ]
  },
  {
   "cell_type": "code",
   "execution_count": 2,
   "metadata": {},
   "outputs": [
    {
     "data": {
      "text/html": [
       "<div>\n",
       "<style scoped>\n",
       "    .dataframe tbody tr th:only-of-type {\n",
       "        vertical-align: middle;\n",
       "    }\n",
       "\n",
       "    .dataframe tbody tr th {\n",
       "        vertical-align: top;\n",
       "    }\n",
       "\n",
       "    .dataframe thead th {\n",
       "        text-align: right;\n",
       "    }\n",
       "</style>\n",
       "<table border=\"1\" class=\"dataframe\">\n",
       "  <thead>\n",
       "    <tr style=\"text-align: right;\">\n",
       "      <th></th>\n",
       "      <th>structureId</th>\n",
       "      <th>structureTitle</th>\n",
       "      <th>resolution</th>\n",
       "      <th>depositionDate</th>\n",
       "      <th>experimentalTechnique</th>\n",
       "      <th>residueCount</th>\n",
       "    </tr>\n",
       "  </thead>\n",
       "  <tbody>\n",
       "    <tr>\n",
       "      <td>0</td>\n",
       "      <td>1AHA</td>\n",
       "      <td>THE N-GLYCOSIDASE MECHANISM OF RIBOSOME-INACTIVATING PROTEINS IMPLIED BY CRY...</td>\n",
       "      <td>2.20</td>\n",
       "      <td>1994-01-07</td>\n",
       "      <td>X-RAY DIFFRACTION</td>\n",
       "      <td>246</td>\n",
       "    </tr>\n",
       "    <tr>\n",
       "      <td>1</td>\n",
       "      <td>1AHB</td>\n",
       "      <td>THE N-GLYCOSIDASE MECHANISM OF RIBOSOME-INACTIVATING PROTEINS IMPLIED BY CRY...</td>\n",
       "      <td>2.20</td>\n",
       "      <td>1994-01-07</td>\n",
       "      <td>X-RAY DIFFRACTION</td>\n",
       "      <td>246</td>\n",
       "    </tr>\n",
       "    <tr>\n",
       "      <td>2</td>\n",
       "      <td>1AHC</td>\n",
       "      <td>THE N-GLYCOSIDASE MECHANISM OF RIBOSOME-INACTIVATING PROTEINS IMPLIED BY CRY...</td>\n",
       "      <td>2.00</td>\n",
       "      <td>1994-01-07</td>\n",
       "      <td>X-RAY DIFFRACTION</td>\n",
       "      <td>246</td>\n",
       "    </tr>\n",
       "    <tr>\n",
       "      <td>3</td>\n",
       "      <td>1DD5</td>\n",
       "      <td>CRYSTAL STRUCTURE OF THERMOTOGA MARITIMA RIBOSOME RECYCLING FACTOR, RRF</td>\n",
       "      <td>2.55</td>\n",
       "      <td>1999-11-08</td>\n",
       "      <td>X-RAY DIFFRACTION</td>\n",
       "      <td>185</td>\n",
       "    </tr>\n",
       "    <tr>\n",
       "      <td>4</td>\n",
       "      <td>1DK1</td>\n",
       "      <td>DETAILED VIEW OF A KEY ELEMENT OF THE RIBOSOME ASSEMBLY: CRYSTAL STRUCTURE O...</td>\n",
       "      <td>2.80</td>\n",
       "      <td>1999-12-06</td>\n",
       "      <td>X-RAY DIFFRACTION</td>\n",
       "      <td>143</td>\n",
       "    </tr>\n",
       "    <tr>\n",
       "      <td>...</td>\n",
       "      <td>...</td>\n",
       "      <td>...</td>\n",
       "      <td>...</td>\n",
       "      <td>...</td>\n",
       "      <td>...</td>\n",
       "      <td>...</td>\n",
       "    </tr>\n",
       "    <tr>\n",
       "      <td>741</td>\n",
       "      <td>6S0X</td>\n",
       "      <td>Erythromycin Resistant Staphylococcus aureus 70S ribosome (delta R88 A89 uL2...</td>\n",
       "      <td>2.42</td>\n",
       "      <td>2019-06-18</td>\n",
       "      <td>ELECTRON MICROSCOPY</td>\n",
       "      <td>10148</td>\n",
       "    </tr>\n",
       "    <tr>\n",
       "      <td>742</td>\n",
       "      <td>6S0Z</td>\n",
       "      <td>Erythromycin Resistant Staphylococcus aureus 50S ribosome (delta R88 A89 uL2...</td>\n",
       "      <td>2.30</td>\n",
       "      <td>2019-06-18</td>\n",
       "      <td>ELECTRON MICROSCOPY</td>\n",
       "      <td>6125</td>\n",
       "    </tr>\n",
       "    <tr>\n",
       "      <td>743</td>\n",
       "      <td>6S12</td>\n",
       "      <td>Erythromycin Resistant Staphylococcus aureus 50S ribosome (delta R88 A89 uL22).</td>\n",
       "      <td>3.20</td>\n",
       "      <td>2019-06-18</td>\n",
       "      <td>ELECTRON MICROSCOPY</td>\n",
       "      <td>6145</td>\n",
       "    </tr>\n",
       "    <tr>\n",
       "      <td>744</td>\n",
       "      <td>6S13</td>\n",
       "      <td>Erythromycin Resistant Staphylococcus aureus 70S ribosome (delta R88 A89 uL22).</td>\n",
       "      <td>3.58</td>\n",
       "      <td>2019-06-18</td>\n",
       "      <td>ELECTRON MICROSCOPY</td>\n",
       "      <td>10167</td>\n",
       "    </tr>\n",
       "    <tr>\n",
       "      <td>745</td>\n",
       "      <td>6S47</td>\n",
       "      <td>Saccharomyces cerevisiae 80S ribosome bound with ABCF protein New1</td>\n",
       "      <td>3.28</td>\n",
       "      <td>2019-06-26</td>\n",
       "      <td>ELECTRON MICROSCOPY</td>\n",
       "      <td>17894</td>\n",
       "    </tr>\n",
       "  </tbody>\n",
       "</table>\n",
       "<p>746 rows × 6 columns</p>\n",
       "</div>"
      ],
      "text/plain": [
       "    structureId  \\\n",
       "0          1AHA   \n",
       "1          1AHB   \n",
       "2          1AHC   \n",
       "3          1DD5   \n",
       "4          1DK1   \n",
       "..          ...   \n",
       "741        6S0X   \n",
       "742        6S0Z   \n",
       "743        6S12   \n",
       "744        6S13   \n",
       "745        6S47   \n",
       "\n",
       "                                                                      structureTitle  \\\n",
       "0    THE N-GLYCOSIDASE MECHANISM OF RIBOSOME-INACTIVATING PROTEINS IMPLIED BY CRY...   \n",
       "1    THE N-GLYCOSIDASE MECHANISM OF RIBOSOME-INACTIVATING PROTEINS IMPLIED BY CRY...   \n",
       "2    THE N-GLYCOSIDASE MECHANISM OF RIBOSOME-INACTIVATING PROTEINS IMPLIED BY CRY...   \n",
       "3            CRYSTAL STRUCTURE OF THERMOTOGA MARITIMA RIBOSOME RECYCLING FACTOR, RRF   \n",
       "4    DETAILED VIEW OF A KEY ELEMENT OF THE RIBOSOME ASSEMBLY: CRYSTAL STRUCTURE O...   \n",
       "..                                                                               ...   \n",
       "741  Erythromycin Resistant Staphylococcus aureus 70S ribosome (delta R88 A89 uL2...   \n",
       "742  Erythromycin Resistant Staphylococcus aureus 50S ribosome (delta R88 A89 uL2...   \n",
       "743  Erythromycin Resistant Staphylococcus aureus 50S ribosome (delta R88 A89 uL22).   \n",
       "744  Erythromycin Resistant Staphylococcus aureus 70S ribosome (delta R88 A89 uL22).   \n",
       "745               Saccharomyces cerevisiae 80S ribosome bound with ABCF protein New1   \n",
       "\n",
       "     resolution depositionDate experimentalTechnique  residueCount  \n",
       "0          2.20     1994-01-07     X-RAY DIFFRACTION           246  \n",
       "1          2.20     1994-01-07     X-RAY DIFFRACTION           246  \n",
       "2          2.00     1994-01-07     X-RAY DIFFRACTION           246  \n",
       "3          2.55     1999-11-08     X-RAY DIFFRACTION           185  \n",
       "4          2.80     1999-12-06     X-RAY DIFFRACTION           143  \n",
       "..          ...            ...                   ...           ...  \n",
       "741        2.42     2019-06-18   ELECTRON MICROSCOPY         10148  \n",
       "742        2.30     2019-06-18   ELECTRON MICROSCOPY          6125  \n",
       "743        3.20     2019-06-18   ELECTRON MICROSCOPY          6145  \n",
       "744        3.58     2019-06-18   ELECTRON MICROSCOPY         10167  \n",
       "745        3.28     2019-06-26   ELECTRON MICROSCOPY         17894  \n",
       "\n",
       "[746 rows x 6 columns]"
      ]
     },
     "metadata": {},
     "output_type": "display_data"
    }
   ],
   "source": [
    "# Then, let's query for all PDB IDs which have 'ribosome' in their title\n",
    "pdb_ids = rcsb.query_for_pdb_ids(queryTitle=\"ribosome\", verbose=False)\n",
    "# And let's get all associated metadata with these IDs so we can see \n",
    "pdb_ids_w_info = rcsb.get_info_from_ids(pdb_ids)\n",
    "\n",
    "# # The following lines print the DataFrame in full\n",
    "# with pd.option_context('display.max_rows', None, \n",
    "#                        'display.max_columns', None,\n",
    "#                        'display.max_colwidth', None):\n",
    "#     display(pdb_ids_w_info)\n",
    "\n",
    "# I don't want to keep scrolling past this, so let's actually only print some rows\n",
    "display(pdb_ids_w_info)"
   ]
  },
  {
   "cell_type": "markdown",
   "metadata": {},
   "source": [
    "## PDB ID Filtering\n",
    "\n",
    "It is obvious if you look through the titles that only some of these structures are even of the ribosome, let alone structures containing the 16S/18S rRNA. So, let's try to get a list of what elements these structures contain, such that we can obtain only the structures we want, we need to apply a filter.\n",
    "\n",
    "We only want structures with the 16S/18S rRNA, so let's get the descriptions of the chains of each structure,\n",
    "and use it as a filtering condition.\n",
    "\n",
    "As an example, let's see what the chain descriptions of one structure look like:"
   ]
  },
  {
   "cell_type": "markdown",
   "metadata": {},
   "source": [
    "Let's collect this information for all of our PDB IDs,\n",
    "and try to see how many possible chain names there are."
   ]
  },
  {
   "cell_type": "code",
   "execution_count": 3,
   "metadata": {},
   "outputs": [
    {
     "name": "stdout",
     "output_type": "stream",
     "text": [
      "Getting chains for 1AHA (1/746)\n",
      "Getting chains for 1RY1 (51/746)\n",
      "Getting chains for 2QES (101/746)\n",
      "Getting chains for 3JAJ (151/746)\n",
      "Getting chains for 4CSU (201/746)\n",
      "Getting chains for 4TUE (251/746)\n",
      "Getting chains for 4V50 (301/746)\n",
      "Getting chains for 4V7E (351/746)\n",
      "Getting chains for 4W29 (401/746)\n",
      "Getting chains for 5BY8 (451/746)\n",
      "Getting chains for 5J88 (501/746)\n",
      "Getting chains for 5NDJ (551/746)\n",
      "Getting chains for 5WFS (601/746)\n",
      "Getting chains for 6FKR (651/746)\n",
      "Getting chains for 6MTC (701/746)\n"
     ]
    }
   ],
   "source": [
    "# Sets containing all unique chain names and descriptions in all structures\n",
    "# TODO: factor fasta join out of this function, instead do it within notebook logic\n",
    "# (or add an option <--- this, as jeez it slows the queries down)\n",
    "chain_name_set = set()\n",
    "chain_description_set = set()\n",
    "counter = 0\n",
    "\n",
    "for (index, pdb_id) in enumerate(pdb_ids):\n",
    "    # Prints out string to update on progress\n",
    "    if index % 50 == 0:\n",
    "        print(\"Getting chains for %s (%d/%d)\" % (pdb_id, index+1, len(pdb_ids)))\n",
    "    \n",
    "    # Attempts to get chain descriptions from the API \n",
    "    # (HTTP request could fail due to flakiness; will print out if so)\n",
    "    try:\n",
    "        chain_df = rcsb.describe_chains(pdb_id)\n",
    "        for chain_name in chain_df.Name:\n",
    "            chain_name_set.add(chain_name)\n",
    "        for chain_description in chain_df.Description:\n",
    "            chain_description_set.add(chain_description)\n",
    "    except:\n",
    "        print(\"Request for '%s' failed\", pdb_id)"
   ]
  },
  {
   "cell_type": "code",
   "execution_count": 4,
   "metadata": {},
   "outputs": [
    {
     "name": "stdout",
     "output_type": "stream",
     "text": [
      "There are 1024 unique chain names\n",
      "There are 3291 unique chain descriptions\n"
     ]
    }
   ],
   "source": [
    "# Let's see how many unique chain names and chain descriptions there are\n",
    "print(\"There are %d unique chain names\" % len(chain_name_set))\n",
    "print(\"There are %d unique chain descriptions\" % len(chain_description_set))"
   ]
  },
  {
   "cell_type": "code",
   "execution_count": 5,
   "metadata": {},
   "outputs": [
    {
     "data": {
      "text/plain": [
       "['30S ribosomal protein S27ae',\n",
       " 'Guanine nucleotide-binding protein subunit beta-like protein',\n",
       " '39S ribosomal protein L27, mitochondrial',\n",
       " '40S ribosomal protein SA',\n",
       " '40S ribosomal protein S22-like protein',\n",
       " 'Signal recognition particle receptor subunit alpha',\n",
       " '60S ribosomal protein L14',\n",
       " '50S ribosomal protein L31',\n",
       " '28S ribosomal protein S34, mitochondrial',\n",
       " 'N-terminal acetyltransferase A complex subunit NAT1',\n",
       " '39S ribosomal protein L9, mitochondrial',\n",
       " 'KRR1 small subunit processome component',\n",
       " 'Protein transport protein Sec61 subunit gamma',\n",
       " '54S ribosomal protein L36, mitochondrial',\n",
       " 'Ribosomal protein L35Ae, putative',\n",
       " 'Ribosomal RNA-processing protein 9',\n",
       " '30S ribosomal protein S18 2',\n",
       " '39S ribosomal protein L54, mitochondrial',\n",
       " '28S ribosomal protein S31, mitochondrial']"
      ]
     },
     "metadata": {},
     "output_type": "display_data"
    }
   ],
   "source": [
    "# What do chain names tend to look like?\n",
    "display(list(chain_name_set)[1:20])"
   ]
  },
  {
   "cell_type": "code",
   "execution_count": 6,
   "metadata": {},
   "outputs": [
    {
     "data": {
      "text/plain": [
       "['A-SITE TRNA A9C TRP-TRNA TRP',\n",
       " 'Tetracycline resistance protein TetM',\n",
       " 'N-terminal acetyltransferase A complex subunit NAT1',\n",
       " '60S ribosomal protein rpL6 (L6e)',\n",
       " '60S ribosomal protein L14',\n",
       " 'ms57',\n",
       " 'SHORT RRNA-II OF THE LARGE RIBOSOMAL SUBUNIT',\n",
       " 'PROTEIN TRANSPORT PROTEIN SEC61 SUBUNIT GAMMA',\n",
       " 'Protein transport protein Sec61 subunit gamma',\n",
       " 'Messenger RNA',\n",
       " 'Nascent peptide',\n",
       " '40S RIBOSOMAL PROTEIN S13',\n",
       " 'MITORIBOSOMAL PROTEIN ML65, MRPS30',\n",
       " '60S ribosomal protein L8',\n",
       " '40S ribosomal protein S26-B',\n",
       " 'KLLA0E06843p',\n",
       " 'Utp18',\n",
       " 'ribosomal protein S7',\n",
       " 'Signal recognition particle 19 kDa protein (SRP19)']"
      ]
     },
     "metadata": {},
     "output_type": "display_data"
    }
   ],
   "source": [
    "# What do chain descriptions tend to look like?\n",
    "display(list(chain_description_set)[1:20])"
   ]
  },
  {
   "cell_type": "markdown",
   "metadata": {},
   "source": [
    "It seems at first glance that chain names and chain descriptions are used mostly interchangeably. "
   ]
  },
  {
   "cell_type": "code",
   "execution_count": 7,
   "metadata": {},
   "outputs": [
    {
     "data": {
      "text/plain": [
       "['30S ribosomal protein S18 2',\n",
       " '60S ribosomal protein L18-A',\n",
       " '37S ribosomal protein S16, mitochondrial',\n",
       " '50S ribosomal protein L16, putative',\n",
       " '40S ribosomal protein S16-B',\n",
       " '30S ribosomal protein S16, chloroplastic',\n",
       " 'KLLA0C18216p',\n",
       " '54S ribosomal protein L16, mitochondrial',\n",
       " '60S ribosomal protein L18a',\n",
       " 'Ribosomal protein L18',\n",
       " 'etc...']"
      ]
     },
     "metadata": {},
     "output_type": "display_data"
    }
   ],
   "source": [
    "# Let's try printing all chain names with \"16\" or \"18\" in their names,\n",
    "# to give us an idea of what kind of filters would work to get all of the 16S/18S rRNA Structures\n",
    "# (Note: For display purposes, only printing first 10 names)\n",
    "display(list(filter(lambda x: (\"16\" in x) or (\"18\" in x), chain_name_set ))[0:10] + [\"etc...\"])"
   ]
  },
  {
   "cell_type": "code",
   "execution_count": 8,
   "metadata": {},
   "outputs": [
    {
     "data": {
      "text/plain": [
       "['Utp18',\n",
       " 'MITORIBOSOMAL 16S RRNA',\n",
       " 'Mitochondrial ribosomal protein L16',\n",
       " 'Fragment of 16S rRNA (h15)',\n",
       " '18S rRNA (1707-MER)',\n",
       " 'UL18',\n",
       " '60S ribosomal protein L16',\n",
       " '16S rRNA (1504-MER)',\n",
       " '60S ribosomal protein eL18',\n",
       " 'uL18m',\n",
       " 'etc...']"
      ]
     },
     "metadata": {},
     "output_type": "display_data"
    }
   ],
   "source": [
    "# Do the same for chain descriptions\n",
    "# (Note: For display purposes, only printing first 10 descriptions)\n",
    "display(list(filter(lambda x: (\"16\" in x) or (\"18\" in x), chain_description_set ))[0:10]+ [\"etc...\"])"
   ]
  },
  {
   "cell_type": "markdown",
   "metadata": {},
   "source": [
    "Having looked through all of these chain names and decriptions, I'm officially convinced that the vast majority of 16S/18S rRNA candidates will have `16S` or `18S` in the their descriptions\n",
    "\n",
    "So, let's filter our set of structures to just contain those that have 16S or 18S in their descriptions."
   ]
  },
  {
   "cell_type": "code",
   "execution_count": 9,
   "metadata": {},
   "outputs": [],
   "source": [
    "# This function returns a bool representing whether or not the\n",
    "# PDB structure has any of the given substrings in any of its chain names,\n",
    "# chain descriptions, or both (depending on value of query_fields).\n",
    "#\n",
    "# Input:\n",
    "#   pdb_id : PDB ID of structure we want to evaluate\n",
    "#   substring_list : List of substrings to query on\n",
    "#   query_fields : Which pdb chain column(s) we want to filter on\n",
    "#                  (must be sublist of [\"Name\", \"Description\"])\n",
    "#   num_attempts : The number of times to try the HTTP request to the RCSB API before\n",
    "#                  giving up (and returning False)\n",
    "# \n",
    "# Output:\n",
    "#   Whether or not the PDB structure contains any chains satisfying these conditions.\n",
    "# \n",
    "# EG  `chainFieldsContainSubstrings([\"16S\", \"18S\"], \"5JUP\", [\"Description\"])`\n",
    "# should return `True`, as it has 18S chain description\n",
    "# \n",
    "# And `chainFieldsContainSubstrings([\"16S\", \"18S\"], \"5JUP\", [\"Name\", \"Description\"])`\n",
    "# should return `True`, as it has 18S chain description, but no 18S chain name\n",
    "# \n",
    "# But `chainFieldsContainSubstrings([\"16S\", \"18S\"], \"5JUP\", [\"Name\"])`\n",
    "# should return `False`, as it has no 18S chain description\n",
    "def chainFieldsContainSubstrings(pdb_id, substring_list, \n",
    "                                 query_fields=[\"Name\", \"Description\"],\n",
    "                                 num_attempts=3):    \n",
    "    # Retries the RCSB query multiple times (to reduce flakiness)\n",
    "    num_attempted = 0\n",
    "    success = False\n",
    "    while (num_attempted < num_attempts):\n",
    "        try:\n",
    "            chain_df = rcsb.describe_chains(pdb_id)\n",
    "            success = True\n",
    "            break\n",
    "        except:\n",
    "            num_attempted += 1\n",
    "    if not success:\n",
    "        print(\"Failed to obtain chains from '%s'\" % pdb_id)\n",
    "        return False\n",
    "    \n",
    "    # Returns `True` if any of the substrings are in any of the chain names\n",
    "    if \"Name\" in query_fields:\n",
    "        for chain_name in chain_df.Name:\n",
    "            for substring in substring_list:\n",
    "                if substring in chain_name:\n",
    "                    return True\n",
    "    # Returns `True` if any of the substrings are in any of the chain descriptions\n",
    "    if \"Description\" in query_fields:\n",
    "        for chain_description in chain_df.Description:\n",
    "            for substring in substring_list:\n",
    "                if substring in chain_description:\n",
    "                    return True\n",
    "                \n",
    "    # Otherwise, return `False`\n",
    "    return False"
   ]
  },
  {
   "cell_type": "code",
   "execution_count": 10,
   "metadata": {},
   "outputs": [
    {
     "data": {
      "text/plain": [
       "True"
      ]
     },
     "execution_count": 10,
     "metadata": {},
     "output_type": "execute_result"
    }
   ],
   "source": [
    "# Let's test this function works properly\n",
    "(chainFieldsContainSubstrings(\"5JUP\", [\"16S\",\"18S\"], [\"Name\", \"Description\"]) and\n",
    " not chainFieldsContainSubstrings(\"5JUP\", [\"16S\",\"18S\"], [\"Name\"]) and\n",
    " chainFieldsContainSubstrings(\"5JUP\", [\"16S\",\"18S\"], [\"Description\"]))"
   ]
  },
  {
   "cell_type": "markdown",
   "metadata": {},
   "source": [
    "Now I'm convinced the function actually works as it is supposed to, let's apply\n",
    "the filter to our PDB IDs, such that we only have IDs with 16S or 18S."
   ]
  },
  {
   "cell_type": "code",
   "execution_count": 11,
   "metadata": {},
   "outputs": [
    {
     "name": "stdout",
     "output_type": "stream",
     "text": [
      "Filtering structure ''1AHA' (1/746)\n",
      "Filtering structure ''1RY1' (51/746)\n",
      "Filtering structure ''2QES' (101/746)\n",
      "Filtering structure ''3JAJ' (151/746)\n",
      "Filtering structure ''4CSU' (201/746)\n",
      "Filtering structure ''4TUE' (251/746)\n",
      "Filtering structure ''4V50' (301/746)\n",
      "Filtering structure ''4V7E' (351/746)\n",
      "Filtering structure ''4W29' (401/746)\n",
      "Filtering structure ''5BY8' (451/746)\n",
      "Filtering structure ''5J88' (501/746)\n",
      "Filtering structure ''5NDJ' (551/746)\n",
      "Filtering structure ''5WFS' (601/746)\n",
      "Filtering structure ''6FKR' (651/746)\n",
      "Filtering structure ''6MTC' (701/746)\n"
     ]
    }
   ],
   "source": [
    "desired_pdb_ids = []\n",
    "for (index, pdb_id) in enumerate(pdb_ids):\n",
    "    # Prints out string to update on progress\n",
    "    if index % 50 == 0:\n",
    "        print(\"Filtering structure ''%s' (%d/%d)\" % (pdb_id, index+1, len(pdb_ids)))\n",
    "\n",
    "    if chainFieldsContainSubstrings(pdb_id, substring_list=[\"16S\", \"18S\"],\n",
    "                                    query_fields=[\"Description\"]):\n",
    "        desired_pdb_ids.append(pdb_id)"
   ]
  },
  {
   "cell_type": "code",
   "execution_count": 12,
   "metadata": {},
   "outputs": [
    {
     "name": "stdout",
     "output_type": "stream",
     "text": [
      "458\n"
     ]
    }
   ],
   "source": [
    "print(len(desired_pdb_ids))"
   ]
  },
  {
   "cell_type": "code",
   "execution_count": 13,
   "metadata": {},
   "outputs": [
    {
     "name": "stdout",
     "output_type": "stream",
     "text": [
      "Getting chains for 1EG0 (1/458)\n",
      "Getting chains for 4CXG (51/458)\n",
      "Getting chains for 4V4I (101/458)\n",
      "Getting chains for 4V6I (151/458)\n",
      "Getting chains for 4V9K (201/458)\n",
      "Getting chains for 5E81 (251/458)\n",
      "Getting chains for 5LL6 (301/458)\n",
      "Getting chains for 5V93 (351/458)\n",
      "Getting chains for 6GXP (401/458)\n",
      "Getting chains for 6QZP (451/458)\n"
     ]
    }
   ],
   "source": [
    "# Let's see how many 16S/18S rRNA candidates we have in all those structures\n",
    "# (and which structures, if any, have repeats)\n",
    "chain_list = []\n",
    "id_seen_once = set()\n",
    "id_seen_twice = set()\n",
    "\n",
    "for (index, pdb_id) in enumerate(desired_pdb_ids):\n",
    "    # Prints out string to update on progress\n",
    "    if index % 50 == 0:\n",
    "        print(\"Getting chains for %s (%d/%d)\" % (pdb_id, index+1, len(desired_pdb_ids)))\n",
    "    \n",
    "    # Attempts to get chain descriptions from the API \n",
    "    # (HTTP request could fail due to flakiness; will print out if so)\n",
    "    try:\n",
    "        chain_df = rcsb.describe_chains(pdb_id)\n",
    "        for chain_description in chain_df.Description:\n",
    "            if \"16S\" in chain_description or \"18S\" in chain_description:\n",
    "                chain_list.append((pdb_id, chain_description))\n",
    "                if pdb_id not in id_seen_once:\n",
    "                    id_seen_once.add(pdb_id)\n",
    "                else:\n",
    "                    id_seen_twice.add(pdb_id)\n",
    "    except:\n",
    "        print(\"Failed to get chains for structure %s\" % pdb_id)"
   ]
  },
  {
   "cell_type": "code",
   "execution_count": 14,
   "metadata": {},
   "outputs": [
    {
     "name": "stdout",
     "output_type": "stream",
     "text": [
      "507\n"
     ]
    }
   ],
   "source": [
    "print(len(chain_list))"
   ]
  },
  {
   "cell_type": "markdown",
   "metadata": {},
   "source": [
    "Notably, 507 != 458. So, let's see which structures have repeats."
   ]
  },
  {
   "cell_type": "code",
   "execution_count": 15,
   "metadata": {},
   "outputs": [
    {
     "name": "stdout",
     "output_type": "stream",
     "text": [
      "458\n",
      "['4V7T', '2OM7', '4V7S', '3J0E', '6I7O', '1ZC8', '4V6F', '4CXH', '6BOH', '6OLE', '4V6C', '4WR6', '6OLI', '2NOQ', '6OM7', '1TRJ', '5W4K', '6HCF', '4V88', '6B4V', '6BOK', '3J0D', '4WU1', '4CXG', '5J4D', '486D', '5MYJ', '1MVR', '6OM0', '4V6D', '4V6E', '4WQ1', '6HCM', '4V7V', '6OLF']\n",
      "35\n"
     ]
    }
   ],
   "source": [
    "print(list(id_seen_twice))"
   ]
  },
  {
   "cell_type": "markdown",
   "metadata": {},
   "source": [
    "After a brief look at the FASTA files of those structures, it seems that they mostly have repeated 16S rRNA chains with identical sequences. We'll treat this more rigorously later."
   ]
  },
  {
   "cell_type": "code",
   "execution_count": 16,
   "metadata": {},
   "outputs": [
    {
     "data": {
      "text/html": [
       "<div>\n",
       "<style scoped>\n",
       "    .dataframe tbody tr th:only-of-type {\n",
       "        vertical-align: middle;\n",
       "    }\n",
       "\n",
       "    .dataframe tbody tr th {\n",
       "        vertical-align: top;\n",
       "    }\n",
       "\n",
       "    .dataframe thead th {\n",
       "        text-align: right;\n",
       "    }\n",
       "</style>\n",
       "<table border=\"1\" class=\"dataframe\">\n",
       "  <thead>\n",
       "    <tr style=\"text-align: right;\">\n",
       "      <th></th>\n",
       "      <th>structureId</th>\n",
       "      <th>structureTitle</th>\n",
       "      <th>resolution</th>\n",
       "      <th>depositionDate</th>\n",
       "      <th>experimentalTechnique</th>\n",
       "      <th>residueCount</th>\n",
       "    </tr>\n",
       "  </thead>\n",
       "  <tbody>\n",
       "    <tr>\n",
       "      <td>9</td>\n",
       "      <td>1VVJ</td>\n",
       "      <td>Crystal Structure of Frameshift Suppressor tRNA SufA6 bound to Codon CCC-G o...</td>\n",
       "      <td>3.44</td>\n",
       "      <td>2013-05-24</td>\n",
       "      <td>X-RAY DIFFRACTION</td>\n",
       "      <td>21420</td>\n",
       "    </tr>\n",
       "    <tr>\n",
       "      <td>10</td>\n",
       "      <td>1VY4</td>\n",
       "      <td>Crystal structure of the Thermus thermophilus 70S ribosome in the pre-attack...</td>\n",
       "      <td>2.60</td>\n",
       "      <td>2014-05-13</td>\n",
       "      <td>X-RAY DIFFRACTION</td>\n",
       "      <td>21748</td>\n",
       "    </tr>\n",
       "    <tr>\n",
       "      <td>11</td>\n",
       "      <td>1VY5</td>\n",
       "      <td>Crystal structure of the Thermus thermophilus 70S ribosome in the post-catal...</td>\n",
       "      <td>2.55</td>\n",
       "      <td>2014-05-13</td>\n",
       "      <td>X-RAY DIFFRACTION</td>\n",
       "      <td>21748</td>\n",
       "    </tr>\n",
       "    <tr>\n",
       "      <td>12</td>\n",
       "      <td>1VY6</td>\n",
       "      <td>Crystal structure of the Thermus thermophilus 70S ribosome in the pre-attack...</td>\n",
       "      <td>2.90</td>\n",
       "      <td>2014-05-13</td>\n",
       "      <td>X-RAY DIFFRACTION</td>\n",
       "      <td>21448</td>\n",
       "    </tr>\n",
       "    <tr>\n",
       "      <td>13</td>\n",
       "      <td>1VY7</td>\n",
       "      <td>Crystal structure of the Thermus thermophilus 70S ribosome in the pre-attack...</td>\n",
       "      <td>2.80</td>\n",
       "      <td>2014-05-13</td>\n",
       "      <td>X-RAY DIFFRACTION</td>\n",
       "      <td>21602</td>\n",
       "    </tr>\n",
       "    <tr>\n",
       "      <td>...</td>\n",
       "      <td>...</td>\n",
       "      <td>...</td>\n",
       "      <td>...</td>\n",
       "      <td>...</td>\n",
       "      <td>...</td>\n",
       "      <td>...</td>\n",
       "    </tr>\n",
       "    <tr>\n",
       "      <td>451</td>\n",
       "      <td>6R5Q</td>\n",
       "      <td>Structure of XBP1u-paused ribosome nascent chain complex (post-state)</td>\n",
       "      <td>3.00</td>\n",
       "      <td>2019-03-25</td>\n",
       "      <td>ELECTRON MICROSCOPY</td>\n",
       "      <td>17453</td>\n",
       "    </tr>\n",
       "    <tr>\n",
       "      <td>453</td>\n",
       "      <td>6R6P</td>\n",
       "      <td>Structure of XBP1u-paused ribosome nascent chain complex (rotated state)</td>\n",
       "      <td>3.10</td>\n",
       "      <td>2019-03-27</td>\n",
       "      <td>ELECTRON MICROSCOPY</td>\n",
       "      <td>17509</td>\n",
       "    </tr>\n",
       "    <tr>\n",
       "      <td>454</td>\n",
       "      <td>6RM3</td>\n",
       "      <td>Evolutionary compaction and adaptation visualized by the structure of the do...</td>\n",
       "      <td>3.40</td>\n",
       "      <td>2019-05-05</td>\n",
       "      <td>ELECTRON MICROSCOPY</td>\n",
       "      <td>15471</td>\n",
       "    </tr>\n",
       "    <tr>\n",
       "      <td>455</td>\n",
       "      <td>6S0X</td>\n",
       "      <td>Erythromycin Resistant Staphylococcus aureus 70S ribosome (delta R88 A89 uL2...</td>\n",
       "      <td>2.42</td>\n",
       "      <td>2019-06-18</td>\n",
       "      <td>ELECTRON MICROSCOPY</td>\n",
       "      <td>10148</td>\n",
       "    </tr>\n",
       "    <tr>\n",
       "      <td>457</td>\n",
       "      <td>6S47</td>\n",
       "      <td>Saccharomyces cerevisiae 80S ribosome bound with ABCF protein New1</td>\n",
       "      <td>3.28</td>\n",
       "      <td>2019-06-26</td>\n",
       "      <td>ELECTRON MICROSCOPY</td>\n",
       "      <td>17894</td>\n",
       "    </tr>\n",
       "  </tbody>\n",
       "</table>\n",
       "<p>257 rows × 6 columns</p>\n",
       "</div>"
      ],
      "text/plain": [
       "    structureId  \\\n",
       "9          1VVJ   \n",
       "10         1VY4   \n",
       "11         1VY5   \n",
       "12         1VY6   \n",
       "13         1VY7   \n",
       "..          ...   \n",
       "451        6R5Q   \n",
       "453        6R6P   \n",
       "454        6RM3   \n",
       "455        6S0X   \n",
       "457        6S47   \n",
       "\n",
       "                                                                      structureTitle  \\\n",
       "9    Crystal Structure of Frameshift Suppressor tRNA SufA6 bound to Codon CCC-G o...   \n",
       "10   Crystal structure of the Thermus thermophilus 70S ribosome in the pre-attack...   \n",
       "11   Crystal structure of the Thermus thermophilus 70S ribosome in the post-catal...   \n",
       "12   Crystal structure of the Thermus thermophilus 70S ribosome in the pre-attack...   \n",
       "13   Crystal structure of the Thermus thermophilus 70S ribosome in the pre-attack...   \n",
       "..                                                                               ...   \n",
       "451            Structure of XBP1u-paused ribosome nascent chain complex (post-state)   \n",
       "453         Structure of XBP1u-paused ribosome nascent chain complex (rotated state)   \n",
       "454  Evolutionary compaction and adaptation visualized by the structure of the do...   \n",
       "455  Erythromycin Resistant Staphylococcus aureus 70S ribosome (delta R88 A89 uL2...   \n",
       "457               Saccharomyces cerevisiae 80S ribosome bound with ABCF protein New1   \n",
       "\n",
       "     resolution depositionDate experimentalTechnique  residueCount  \n",
       "9          3.44     2013-05-24     X-RAY DIFFRACTION         21420  \n",
       "10         2.60     2014-05-13     X-RAY DIFFRACTION         21748  \n",
       "11         2.55     2014-05-13     X-RAY DIFFRACTION         21748  \n",
       "12         2.90     2014-05-13     X-RAY DIFFRACTION         21448  \n",
       "13         2.80     2014-05-13     X-RAY DIFFRACTION         21602  \n",
       "..          ...            ...                   ...           ...  \n",
       "451        3.00     2019-03-25   ELECTRON MICROSCOPY         17453  \n",
       "453        3.10     2019-03-27   ELECTRON MICROSCOPY         17509  \n",
       "454        3.40     2019-05-05   ELECTRON MICROSCOPY         15471  \n",
       "455        2.42     2019-06-18   ELECTRON MICROSCOPY         10148  \n",
       "457        3.28     2019-06-26   ELECTRON MICROSCOPY         17894  \n",
       "\n",
       "[257 rows x 6 columns]"
      ]
     },
     "metadata": {},
     "output_type": "display_data"
    }
   ],
   "source": [
    "# Now, let's get the associated DataFrame for all ribosome structures with 16S rRNA\n",
    "# (Additionally, we cut off all structures that aren't at a resolution of at least 3.5 Angstroms)\n",
    "# -- I got this cutoff from the 'Gene Machine' book by Venki Ramakrishnan on pg. 82\n",
    "ribosome_df = rcsb.get_info_from_ids(desired_pdb_ids)\n",
    "ribosome_df = ribosome_df[ribosome_df[\"resolution\"] <= 3.5] # amino acid resolution cutoff\n",
    "display(ribosome_df)"
   ]
  },
  {
   "cell_type": "markdown",
   "metadata": {},
   "source": [
    "Nice! So we now have our 257 candidate ribosome structures! \n",
    "\n",
    "Now, let's attempt to get the FASTA sequences for the 16S rRNA from this, and append them to one big data frame of the chains, the sequences, and their PDB accession IDs!"
   ]
  },
  {
   "cell_type": "code",
   "execution_count": 42,
   "metadata": {},
   "outputs": [
    {
     "name": "stdout",
     "output_type": "stream",
     "text": [
      "Getting chains for 1VVJ (1/257)\n",
      "Getting chains for 4V5A (51/257)\n",
      "Getting chains for 4V9S (101/257)\n",
      "Getting chains for 5HCR (151/257)\n",
      "Getting chains for 5WFS (201/257)\n",
      "Getting chains for 6QNR (251/257)\n"
     ]
    }
   ],
   "source": [
    "acc_chain_data = pd.DataFrame()\n",
    "for (index, pdb_id) in enumerate(ribosome_df[\"structureId\"]):\n",
    "    # Prints out string to update on progress\n",
    "    if index % 50 == 0:\n",
    "        print(\"Getting chains for %s (%d/%d)\" % (pdb_id, index+1, len(ribosome_df[\"structureId\"])))\n",
    "    # Fetches chain data (with FASTA sequence) from RCSB\n",
    "    df = rcsb.describe_chains(pdb_id, get_fasta=True)\n",
    "    # Adds a PDB_ID column (so we can identify where each chain is from)\n",
    "    df[\"PDB_ID\"] = pdb_id\n",
    "    # Filters out all chains that aren't 16S or 18S rRNA\n",
    "    df = df[df[\"Description\"].str.contains(\"16S\") | df[\"Description\"].str.contains(\"18S\")]\n",
    "    # Appends the desired rows to accumulated DataFrame\n",
    "    acc_chain_data = acc_chain_data.append(df, ignore_index = True)"
   ]
  },
  {
   "cell_type": "code",
   "execution_count": 43,
   "metadata": {},
   "outputs": [],
   "source": [
    "# Drop any duplicate rows\n",
    "acc_chain_data.drop_duplicates(subset =[\"Taxonomy\",\"Sequence\",\"PDB_ID\"], inplace = True) "
   ]
  },
  {
   "cell_type": "code",
   "execution_count": 40,
   "metadata": {},
   "outputs": [],
   "source": [
    "# # Let's take a look at this data\n",
    "# with pd.option_context('display.max_rows', None, \n",
    "#                        'display.max_columns', None,\n",
    "#                        'display.max_colwidth', 1000):\n",
    "#     columnsTitles = ['PDB_ID', 'Description', 'Taxonomy', \"Name\", \"Sequence\"]\n",
    "#     frame = acc_chain_data.reindex(columns=columnsTitles)\n",
    "#     display(frame)"
   ]
  },
  {
   "cell_type": "markdown",
   "metadata": {},
   "source": [
    "Having looked through this data, it's obvious that some of it is mislabelled.\n",
    "A chain with a description of `16S rRNA` should not have any protein in it.\n",
    "So, let's apply another round of filtering."
   ]
  },
  {
   "cell_type": "code",
   "execution_count": 59,
   "metadata": {},
   "outputs": [],
   "source": [
    "# 16S/18S rRNA should not have amino acids in them\n",
    "acc_chain_data = acc_chain_data[~acc_chain_data[\"Sequence\"].str.contains(\"B\")]\n",
    "# Their names shouldn't include proteins\n",
    "acc_chain_data = acc_chain_data[~acc_chain_data[\"Name\"].str.contains(\"protein\")]\n",
    "# In case of duplicate chains with different sequences within same PDB_ID, drop all but the first one\n",
    "acc_chain_data.drop_duplicates(subset=\"PDB_ID\", inplace=True)"
   ]
  },
  {
   "cell_type": "code",
   "execution_count": 56,
   "metadata": {},
   "outputs": [],
   "source": [
    "# Let's take a look at this data\n",
    "# with pd.option_context('display.max_rows', None, \n",
    "#                        'display.max_columns', None,\n",
    "#                        'display.max_colwidth', 1000):\n",
    "#     acc_chain_data[\"Length\"] = acc_chain_data[\"Sequence\"].str.len()\n",
    "#     columnsTitles = ['PDB_ID', 'Description', 'Taxonomy', \"Name\", \"Length\",  \"Sequence\"]\n",
    "#     frame = acc_chain_data.reindex(columns=columnsTitles)\n",
    "#     display(frame)"
   ]
  },
  {
   "cell_type": "code",
   "execution_count": 64,
   "metadata": {},
   "outputs": [
    {
     "data": {
      "text/plain": [
       "247"
      ]
     },
     "execution_count": 64,
     "metadata": {},
     "output_type": "execute_result"
    }
   ],
   "source": [
    "len(acc_chain_data) # Now we have 247 final sequences"
   ]
  },
  {
   "cell_type": "code",
   "execution_count": 70,
   "metadata": {},
   "outputs": [
    {
     "data": {
      "text/html": [
       "<div>\n",
       "<style scoped>\n",
       "    .dataframe tbody tr th:only-of-type {\n",
       "        vertical-align: middle;\n",
       "    }\n",
       "\n",
       "    .dataframe tbody tr th {\n",
       "        vertical-align: top;\n",
       "    }\n",
       "\n",
       "    .dataframe thead th {\n",
       "        text-align: right;\n",
       "    }\n",
       "</style>\n",
       "<table border=\"1\" class=\"dataframe\">\n",
       "  <thead>\n",
       "    <tr style=\"text-align: right;\">\n",
       "      <th></th>\n",
       "      <th>Name</th>\n",
       "      <th>Taxonomy</th>\n",
       "      <th>Description</th>\n",
       "      <th>Sequence</th>\n",
       "      <th>PDB_ID</th>\n",
       "      <th>length</th>\n",
       "      <th>Length</th>\n",
       "    </tr>\n",
       "  </thead>\n",
       "  <tbody>\n",
       "    <tr>\n",
       "      <td>0</td>\n",
       "      <td></td>\n",
       "      <td>Thermus thermophilus</td>\n",
       "      <td>16S rRNA</td>\n",
       "      <td>UUUGUUGGAGAGUUUGAUCCUGGCUCAGGGUGAACGCUGGCGGCGUGCCUAAGACAUGCAAGUCGUGCGGGCCGCG...</td>\n",
       "      <td>1VVJ</td>\n",
       "      <td>0</td>\n",
       "      <td>1522</td>\n",
       "    </tr>\n",
       "    <tr>\n",
       "      <td>1</td>\n",
       "      <td></td>\n",
       "      <td>Thermus thermophilus</td>\n",
       "      <td>16S Ribosomal RNA</td>\n",
       "      <td>UUGUUGGAGAGUUUGAUCCUGGCUCAGGGUGAACGCUGGCGGCGUGCCUAAGACAUGCAAGUCGUGCGGGCCGCGG...</td>\n",
       "      <td>1VY4</td>\n",
       "      <td>0</td>\n",
       "      <td>1521</td>\n",
       "    </tr>\n",
       "    <tr>\n",
       "      <td>2</td>\n",
       "      <td></td>\n",
       "      <td>Thermus thermophilus</td>\n",
       "      <td>16S Ribosomal RNA</td>\n",
       "      <td>UUGUUGGAGAGUUUGAUCCUGGCUCAGGGUGAACGCUGGCGGCGUGCCUAAGACAUGCAAGUCGUGCGGGCCGCGG...</td>\n",
       "      <td>1VY5</td>\n",
       "      <td>0</td>\n",
       "      <td>1521</td>\n",
       "    </tr>\n",
       "    <tr>\n",
       "      <td>3</td>\n",
       "      <td></td>\n",
       "      <td>Thermus thermophilus</td>\n",
       "      <td>16S Ribosomal RNA</td>\n",
       "      <td>UUGUUGGAGAGUUUGAUCCUGGCUCAGGGUGAACGCUGGCGGCGUGCCUAAGACAUGCAAGUCGUGCGGGCCGCGG...</td>\n",
       "      <td>1VY6</td>\n",
       "      <td>0</td>\n",
       "      <td>1521</td>\n",
       "    </tr>\n",
       "    <tr>\n",
       "      <td>4</td>\n",
       "      <td></td>\n",
       "      <td>Thermus thermophilus</td>\n",
       "      <td>16S Ribosomal RNA</td>\n",
       "      <td>UUGUUGGAGAGUUUGAUCCUGGCUCAGGGUGAACGCUGGCGGCGUGCCUAAGACAUGCAAGUCGUGCGGGCCGCGG...</td>\n",
       "      <td>1VY7</td>\n",
       "      <td>0</td>\n",
       "      <td>1521</td>\n",
       "    </tr>\n",
       "  </tbody>\n",
       "</table>\n",
       "</div>"
      ],
      "text/plain": [
       "  Name              Taxonomy        Description  \\\n",
       "0       Thermus thermophilus           16S rRNA   \n",
       "1       Thermus thermophilus  16S Ribosomal RNA   \n",
       "2       Thermus thermophilus  16S Ribosomal RNA   \n",
       "3       Thermus thermophilus  16S Ribosomal RNA   \n",
       "4       Thermus thermophilus  16S Ribosomal RNA   \n",
       "\n",
       "                                                                          Sequence  \\\n",
       "0  UUUGUUGGAGAGUUUGAUCCUGGCUCAGGGUGAACGCUGGCGGCGUGCCUAAGACAUGCAAGUCGUGCGGGCCGCG...   \n",
       "1  UUGUUGGAGAGUUUGAUCCUGGCUCAGGGUGAACGCUGGCGGCGUGCCUAAGACAUGCAAGUCGUGCGGGCCGCGG...   \n",
       "2  UUGUUGGAGAGUUUGAUCCUGGCUCAGGGUGAACGCUGGCGGCGUGCCUAAGACAUGCAAGUCGUGCGGGCCGCGG...   \n",
       "3  UUGUUGGAGAGUUUGAUCCUGGCUCAGGGUGAACGCUGGCGGCGUGCCUAAGACAUGCAAGUCGUGCGGGCCGCGG...   \n",
       "4  UUGUUGGAGAGUUUGAUCCUGGCUCAGGGUGAACGCUGGCGGCGUGCCUAAGACAUGCAAGUCGUGCGGGCCGCGG...   \n",
       "\n",
       "  PDB_ID  length  Length  \n",
       "0   1VVJ       0    1522  \n",
       "1   1VY4       0    1521  \n",
       "2   1VY5       0    1521  \n",
       "3   1VY6       0    1521  \n",
       "4   1VY7       0    1521  "
      ]
     },
     "execution_count": 70,
     "metadata": {},
     "output_type": "execute_result"
    }
   ],
   "source": [
    "acc_chain_data.head()"
   ]
  },
  {
   "cell_type": "markdown",
   "metadata": {},
   "source": [
    "## Converting Chain Data to FASTA format\n",
    "\n",
    "Now we have the data we want to feed into Clustal Omega! The problem is that Clustal Omega takes FASTA files as input. So, let's convert our Pandas DataFrame into that format."
   ]
  },
  {
   "cell_type": "code",
   "execution_count": 76,
   "metadata": {},
   "outputs": [],
   "source": [
    "# TODO: Annotate this function\n",
    "def convert_df_to_fasta(df, file_name):\n",
    "    fasta_string = \"\"\n",
    "    for index, row in df.iterrows():\n",
    "        sequence_header = (\"> PDB: %s | Taxonomy: %s | Name: %s | Descr: %s \\n\" %\n",
    "                        (row[\"PDB_ID\"], row[\"Taxonomy\"], row[\"Name\"], row[\"Description\"]))\n",
    "        fasta_string += sequence_header\n",
    "        fasta_string += row[\"Sequence\"] + \"\\n\"\n",
    "        \n",
    "    file = open(file_name,\"w\") \n",
    "    file.write(fasta_string)\n",
    "    file.close()\n",
    "    \n",
    "convert_df_to_fasta(acc_chain_data, \"test_file.txt\")"
   ]
  },
  {
   "cell_type": "code",
   "execution_count": 77,
   "metadata": {},
   "outputs": [
    {
     "name": "stdout",
     "output_type": "stream",
     "text": [
      "> PDB: 1VVJ | Taxonomy: Thermus thermophilus | Name:  | Descr: 16S rRNA \n",
      "UUUGUUGGAGAGUUUGAUCCUGGCUCAGGGUGAACGCUGGCGGCGUGCCUAAGACAUGCAAGUCGUGCGGGCCGCGGGGUUUUACUCCGUGGUCAGCGGCGGACGGGUGAGUAACGCGUGGGUGACCUACCCGGAAGAGGGGGACAACCCGGGGAAACUCGGGCUAAUCCCCCAUGUGGACCCGCCCCUUGGGGUGUGUCCAAAGGGCUUUGCCCGCUUCCGGAUGGGCCCGCGUCCCAUCAGCUAGUUGGUGGGGUAAUGGCCCACCAAGGCGACGACGGGUAGCCGGUCUGAGAGGAUGGCCGGCCACAGGGGCACUGAGACACGGGCCCCACUCCUACGGGAGGCAGCAGUUAGGAAUCUUCCGCAAUGGGCGCAAGCCUGACGGAGCGACGCCGCUUGGAGGAAGAAGCCCUUCGGGGUGUAAACUCCUGAACCCGGGACGAAACCCCCGACGAGGGGACUGACGGUACCGGGGUAAUAGCGCCGGCCAACUCCGUGCCAGCAGCCGCGGUAAUACGGAGGGCGCGAGCGUUACCCGGAUUCACUGGGCGUAAAGGGCGUGUAGGCGGCCUGGGGCGUCCCAUGUGAAAGACCACGGCUCAACCGUGGGGGAGCGUGGGAUACGCUCAGGCUAGACGGUGGGAGAGGGUGGUGGAAUUCCCGGAGUAGCGGUGAAAUGCGCAGAUACCGGGAGGAACGCCGAUGGCGAAGGCAGCCACCUGGUCCACCCGUGACGCUGAGGCGCGAAAGCGUGGGGAGCAAACCGGAUUAGAUACCCGGGUAGUCCACGCCCUAAACGAUGCGCGCUAGGUCUCUGGGUCUCCUGGGGGCCGAAGCUAACGCGUUAAGCGCGCCGCCUGGGGAGUACGGCCGCAAGGCUGAAACUCAAAGGAAUUGACGGGGGCCCGCACAAGCGGUGGAGCAUGUGGUUUAAUUCGAAGCAACGCGAAGAACCUUACCAGGCCUUGACAUGCUAGGGAACCCGGGUGAAAGCCUGGGGUGCCCCGCGAGGGGAGCCCUAGCACAGGUGCUGCAUGGCCGUCGUCAGCUCGUGCCGUGAGGUGUUGGGUUAAGUCCCGCAACGAGCGCAACCCCCGCCGUUAGUUGCCAGCGGUUCGGCCGGGCACUCUAACGGGACUGCCCGCGAAAGCGGGAGGAAGGAGGGGACGACGUCUGGUCAGCAUGGCCCUUACGGCCUGGGCGACACACGUGCUACAAUGCCCACUACAAAGCGAUGCCACCCGGCAACGGGGAGCUAAUCGCAAAAAGGUGGGCCCAGUUCGGAUUGGGGUCUGCAACCCGACCCCAUGAAGCCGGAAUCGCUAGUAAUCGCGGAUCAGCCAUGCCGCGGUGAAUACGUUCCCGGGCCUUGUACACACCGCCCGUCACGCCAUGGGAGCGGGCUCUACCCGAAGUCGCCGGGAGCCUACGGGCAGGCGCCGAGGGUAGGGCCCGUGACUGGGGCGAAGUCGUAACAAGGUAGCUGUACCGGAAGGUGCGGCUGGAUCACCUCCUUUCU\n",
      "> PDB: 1VY4 | Taxonomy: Thermus thermophilus | Name:  | Descr: 16S Ribosomal RNA \n",
      "UUGUUGGAGAGUUUGAUCCUGGCUCAGGGUGAACGCUGGCGGCGUGCCUAAGACAUGCAAGUCGUGCGGGCCGCGGGGUUUUACUCCGUGGUCAGCGGCGGACGGGUGAGUAACGCGUGGGUGACCUACCCGGAAGAGGGGGACAACCCGGGGAAACUCGGGCUAAUCCCCCAUGUGGACCCGCCCCUUGGGGUGUGUCCAAAGGGCUUUGCCCGCUUCCGGAUGGGCCCGCGUCCCAUCAGCUAGUUGGUGGGGUAAUGGCCCACCAAGGCGACGACGGGUAGCCGGUCUGAGAGGAUGGCCGGCCACAGGGGCACUGAGACACGGGCCCCACUCCUACGGGAGGCAGCAGUUAGGAAUCUUCCGCAAUGGGCGCAAGCCUGACGGAGCGACGCCGCUUGGAGGAAGAAGCCCUUCGGGGUGUAAACUCCUGAACCCGGGACGAAACCCCCGACGAGGGGACUGACGGUACCGGGGUAAUAGCGCCGGCCAACUCCGUGCCAGCAGCCGCGGUAAUACGGAGGGCGCGAGCGUUACCCGGAUUCACUGGGCGUAAAGGGCGUGUAGGCGGCCUGGGGCGUCCCAUGUGAAAGACCACGGCUCAACCGUGGGGGAGCGUGGGAUACGCUCAGGCUAGACGGUGGGAGAGGGUGGUGGAAUUCCCGGAGUAGCGGUGAAAUGCGCAGAUACCGGGAGGAACGCCGAUGGCGAAGGCAGCCACCUGGUCCACCCGUGACGCUGAGGCGCGAAAGCGUGGGGAGCAAACCGGAUUAGAUACCCGGGUAGUCCACGCCCUAAACGAUGCGCGCUAGGUCUCUGGGUCUCCUGGGGGCCGAAGCUAACGCGUUAAGCGCGCCGCCUGGGGAGUACGGCCGCAAGGCUGAAACUCAAAGGAAUUGACGGGGGCCCGCACAAGCGGUGGAGCAUGUGGUUUAAUUCGAAGCAACGCGAAGAACCUUACCAGGCCUUGACAUGCUAGGGAACCCGGGUGAAAGCCUGGGGUGCCCCGCGAGGGGAGCCCUAGCACAGGUGCUGCAUGGCCGUCGUCAGCUCGUGCCGUGAGGUGUUGGGUUAAGUCCCGCAACGAGCGCAACCCCCGCCGUUAGUUGCCAGCGGUUCGGCCGGGCACUCUAACGGGACUGCCCGCGAAAGCGGGAGGAAGGAGGGGACGACGUCUGGUCAGCAUGGCCCUUACGGCCUGGGCGACACACGUGCUACAAUGCCCACUACAAAGCGAUGCCACCCGGCAACGGGGAGCUAAUCGCAAAAAGGUGGGCCCAGUUCGGAUUGGGGUCUGCAACCCGACCCCAUGAAGCCGGAAUCGCUAGUAAUCGCGGAUCAGCCAUGCCGCGGUGAAUACGUUCCCGGGCCUUGUACACACCGCCCGUCACGCCAUGGGAGCGGGCUCUACCCGAAGUCGCCGGGAGCCUACGGGCAGGCGCCGAGGGUAGGGCCCGUGACUGGGGCGAAGUCGUAACAAGGUAGCUGUACCGGAAGGUGCGGCUGGAUCACCUCCUUUCU\n",
      "> PDB: 1VY5 | Taxonomy: Thermus thermophilus | Name:  | Descr: 16S Ribosomal RNA \n",
      "UUGUUGGAGAGUUUGAUCCUGGCUCAGGGUGAACGCUGGCGGCGUGCCUAAGACAUGCAAGUCGUGCGGGCCGCGGGGUUUUACUCCGUGGUCAGCGGCGGACGGGUGAGUAACGCGUGGGUGACCUACCCGGAAGAGGGGGACAACCCGGGGAAACUCGGGCUAAUCCCCCAUGUGGACCCGCCCCUUGGGGUGUGUCCAAAGGGCUUUGCCCGCUUCCGGAUGGGCCCGCGUCCCAUCAGCUAGUUGGUGGGGUAAUGGCCCACCAAGGCGACGACGGGUAGCCGGUCUGAGAGGAUGGCCGGCCACAGGGGCACUGAGACACGGGCCCCACUCCUACGGGAGGCAGCAGUUAGGAAUCUUCCGCAAUGGGCGCAAGCCUGACGGAGCGACGCCGCUUGGAGGAAGAAGCCCUUCGGGGUGUAAACUCCUGAACCCGGGACGAAACCCCCGACGAGGGGACUGACGGUACCGGGGUAAUAGCGCCGGCCAACUCCGUGCCAGCAGCCGCGGUAAUACGGAGGGCGCGAGCGUUACCCGGAUUCACUGGGCGUAAAGGGCGUGUAGGCGGCCUGGGGCGUCCCAUGUGAAAGACCACGGCUCAACCGUGGGGGAGCGUGGGAUACGCUCAGGCUAGACGGUGGGAGAGGGUGGUGGAAUUCCCGGAGUAGCGGUGAAAUGCGCAGAUACCGGGAGGAACGCCGAUGGCGAAGGCAGCCACCUGGUCCACCCGUGACGCUGAGGCGCGAAAGCGUGGGGAGCAAACCGGAUUAGAUACCCGGGUAGUCCACGCCCUAAACGAUGCGCGCUAGGUCUCUGGGUCUCCUGGGGGCCGAAGCUAACGCGUUAAGCGCGCCGCCUGGGGAGUACGGCCGCAAGGCUGAAACUCAAAGGAAUUGACGGGGGCCCGCACAAGCGGUGGAGCAUGUGGUUUAAUUCGAAGCAACGCGAAGAACCUUACCAGGCCUUGACAUGCUAGGGAACCCGGGUGAAAGCCUGGGGUGCCCCGCGAGGGGAGCCCUAGCACAGGUGCUGCAUGGCCGUCGUCAGCUCGUGCCGUGAGGUGUUGGGUUAAGUCCCGCAACGAGCGCAACCCCCGCCGUUAGUUGCCAGCGGUUCGGCCGGGCACUCUAACGGGACUGCCCGCGAAAGCGGGAGGAAGGAGGGGACGACGUCUGGUCAGCAUGGCCCUUACGGCCUGGGCGACACACGUGCUACAAUGCCCACUACAAAGCGAUGCCACCCGGCAACGGGGAGCUAAUCGCAAAAAGGUGGGCCCAGUUCGGAUUGGGGUCUGCAACCCGACCCCAUGAAGCCGGAAUCGCUAGUAAUCGCGGAUCAGCCAUGCCGCGGUGAAUACGUUCCCGGGCCUUGUACACACCGCCCGUCACGCCAUGGGAGCGGGCUCUACCCGAAGUCGCCGGGAGCCUACGGGCAGGCGCCGAGGGUAGGGCCCGUGACUGGGGCGAAGUCGUAACAAGGUAGCUGUACCGGAAGGUGCGGCUGGAUCACCUCCUUUCU\n",
      "> PDB: 1VY6 | Taxonomy: Thermus thermophilus | Name:  | Descr: 16S Ribosomal RNA \n",
      "UUGUUGGAGAGUUUGAUCCUGGCUCAGGGUGAACGCUGGCGGCGUGCCUAAGACAUGCAAGUCGUGCGGGCCGCGGGGUUUUACUCCGUGGUCAGCGGCGGACGGGUGAGUAACGCGUGGGUGACCUACCCGGAAGAGGGGGACAACCCGGGGAAACUCGGGCUAAUCCCCCAUGUGGACCCGCCCCUUGGGGUGUGUCCAAAGGGCUUUGCCCGCUUCCGGAUGGGCCCGCGUCCCAUCAGCUAGUUGGUGGGGUAAUGGCCCACCAAGGCGACGACGGGUAGCCGGUCUGAGAGGAUGGCCGGCCACAGGGGCACUGAGACACGGGCCCCACUCCUACGGGAGGCAGCAGUUAGGAAUCUUCCGCAAUGGGCGCAAGCCUGACGGAGCGACGCCGCUUGGAGGAAGAAGCCCUUCGGGGUGUAAACUCCUGAACCCGGGACGAAACCCCCGACGAGGGGACUGACGGUACCGGGGUAAUAGCGCCGGCCAACUCCGUGCCAGCAGCCGCGGUAAUACGGAGGGCGCGAGCGUUACCCGGAUUCACUGGGCGUAAAGGGCGUGUAGGCGGCCUGGGGCGUCCCAUGUGAAAGACCACGGCUCAACCGUGGGGGAGCGUGGGAUACGCUCAGGCUAGACGGUGGGAGAGGGUGGUGGAAUUCCCGGAGUAGCGGUGAAAUGCGCAGAUACCGGGAGGAACGCCGAUGGCGAAGGCAGCCACCUGGUCCACCCGUGACGCUGAGGCGCGAAAGCGUGGGGAGCAAACCGGAUUAGAUACCCGGGUAGUCCACGCCCUAAACGAUGCGCGCUAGGUCUCUGGGUCUCCUGGGGGCCGAAGCUAACGCGUUAAGCGCGCCGCCUGGGGAGUACGGCCGCAAGGCUGAAACUCAAAGGAAUUGACGGGGGCCCGCACAAGCGGUGGAGCAUGUGGUUUAAUUCGAAGCAACGCGAAGAACCUUACCAGGCCUUGACAUGCUAGGGAACCCGGGUGAAAGCCUGGGGUGCCCCGCGAGGGGAGCCCUAGCACAGGUGCUGCAUGGCCGUCGUCAGCUCGUGCCGUGAGGUGUUGGGUUAAGUCCCGCAACGAGCGCAACCCCCGCCGUUAGUUGCCAGCGGUUCGGCCGGGCACUCUAACGGGACUGCCCGCGAAAGCGGGAGGAAGGAGGGGACGACGUCUGGUCAGCAUGGCCCUUACGGCCUGGGCGACACACGUGCUACAAUGCCCACUACAAAGCGAUGCCACCCGGCAACGGGGAGCUAAUCGCAAAAAGGUGGGCCCAGUUCGGAUUGGGGUCUGCAACCCGACCCCAUGAAGCCGGAAUCGCUAGUAAUCGCGGAUCAGCCAUGCCGCGGUGAAUACGUUCCCGGGCCUUGUACACACCGCCCGUCACGCCAUGGGAGCGGGCUCUACCCGAAGUCGCCGGGAGCCUACGGGCAGGCGCCGAGGGUAGGGCCCGUGACUGGGGCGAAGUCGUAACAAGGUAGCUGUACCGGAAGGUGCGGCUGGAUCACCUCCUUUCU\n",
      "> PDB: 1VY7 | Taxonomy: Thermus thermophilus | Name:  | Descr: 16S Ribosomal RNA \n",
      "UUGUUGGAGAGUUUGAUCCUGGCUCAGGGUGAACGCUGGCGGCGUGCCUAAGACAUGCAAGUCGUGCGGGCCGCGGGGUUUUACUCCGUGGUCAGCGGCGGACGGGUGAGUAACGCGUGGGUGACCUACCCGGAAGAGGGGGACAACCCGGGGAAACUCGGGCUAAUCCCCCAUGUGGACCCGCCCCUUGGGGUGUGUCCAAAGGGCUUUGCCCGCUUCCGGAUGGGCCCGCGUCCCAUCAGCUAGUUGGUGGGGUAAUGGCCCACCAAGGCGACGACGGGUAGCCGGUCUGAGAGGAUGGCCGGCCACAGGGGCACUGAGACACGGGCCCCACUCCUACGGGAGGCAGCAGUUAGGAAUCUUCCGCAAUGGGCGCAAGCCUGACGGAGCGACGCCGCUUGGAGGAAGAAGCCCUUCGGGGUGUAAACUCCUGAACCCGGGACGAAACCCCCGACGAGGGGACUGACGGUACCGGGGUAAUAGCGCCGGCCAACUCCGUGCCAGCAGCCGCGGUAAUACGGAGGGCGCGAGCGUUACCCGGAUUCACUGGGCGUAAAGGGCGUGUAGGCGGCCUGGGGCGUCCCAUGUGAAAGACCACGGCUCAACCGUGGGGGAGCGUGGGAUACGCUCAGGCUAGACGGUGGGAGAGGGUGGUGGAAUUCCCGGAGUAGCGGUGAAAUGCGCAGAUACCGGGAGGAACGCCGAUGGCGAAGGCAGCCACCUGGUCCACCCGUGACGCUGAGGCGCGAAAGCGUGGGGAGCAAACCGGAUUAGAUACCCGGGUAGUCCACGCCCUAAACGAUGCGCGCUAGGUCUCUGGGUCUCCUGGGGGCCGAAGCUAACGCGUUAAGCGCGCCGCCUGGGGAGUACGGCCGCAAGGCUGAAACUCAAAGGAAUUGACGGGGGCCCGCACAAGCGGUGGAGCAUGUGGUUUAAUUCGAAGCAACGCGAAGAACCUUACCAGGCCUUGACAUGCUAGGGAACCCGGGUGAAAGCCUGGGGUGCCCCGCGAGGGGAGCCCUAGCACAGGUGCUGCAUGGCCGUCGUCAGCUCGUGCCGUGAGGUGUUGGGUUAAGUCCCGCAACGAGCGCAACCCCCGCCGUUAGUUGCCAGCGGUUCGGCCGGGCACUCUAACGGGACUGCCCGCGAAAGCGGGAGGAAGGAGGGGACGACGUCUGGUCAGCAUGGCCCUUACGGCCUGGGCGACACACGUGCUACAAUGCCCACUACAAAGCGAUGCCACCCGGCAACGGGGAGCUAAUCGCAAAAAGGUGGGCCCAGUUCGGAUUGGGGUCUGCAACCCGACCCCAUGAAGCCGGAAUCGCUAGUAAUCGCGGAUCAGCCAUGCCGCGGUGAAUACGUUCCCGGGCCUUGUACACACCGCCCGUCACGCCAUGGGAGCGGGCUCUACCCGAAGUCGCCGGGAGCCUACGGGCAGGCGCCGAGGGUAGGGCCCGUGACUGGGGCGAAGUCGUAACAAGGUAGCUGUACCGGAAGGUGCGGCUGGAUCACCUCCUUUCU\n"
     ]
    }
   ],
   "source": [
    "%%bash\n",
    "head test_file.txt"
   ]
  },
  {
   "cell_type": "markdown",
   "metadata": {},
   "source": [
    "Success!!!\n",
    "\n",
    "## Piping this FASTA file into Clustal Omega\n",
    "\n",
    "We're going to use the `subprocess` Python module to allow us to run Clustal Omega in BASH and have its output as accessible within the Python environment."
   ]
  },
  {
   "cell_type": "code",
   "execution_count": 78,
   "metadata": {},
   "outputs": [],
   "source": [
    "# TODO: Implement this last part, and then data analysis of the results"
   ]
  },
  {
   "cell_type": "markdown",
   "metadata": {},
   "source": [
    "## Afterword: My Analysis Technique\n",
    "\n",
    "The layout of this notebook was inspired by [this paper](https://arxiv.org/abs/1901.08152) about formatting notebook formats to maximize reproduciblity of data science analyses, drawing from the principles of predictability, computatibility, and stability. \n",
    "\n",
    "IE if someone else did this analysis, if I did my job right, they should always get the same conclusions as they will always know which judgement calls I made over the course of my analysis."
   ]
  }
 ],
 "metadata": {
  "kernelspec": {
   "display_name": "Python 3",
   "language": "python",
   "name": "python3"
  },
  "language_info": {
   "codemirror_mode": {
    "name": "ipython",
    "version": 3
   },
   "file_extension": ".py",
   "mimetype": "text/x-python",
   "name": "python",
   "nbconvert_exporter": "python",
   "pygments_lexer": "ipython3",
   "version": "3.7.3"
  }
 },
 "nbformat": 4,
 "nbformat_minor": 4
}
