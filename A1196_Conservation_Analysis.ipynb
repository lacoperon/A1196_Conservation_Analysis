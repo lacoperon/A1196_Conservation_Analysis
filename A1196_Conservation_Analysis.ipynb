{
 "cells": [
  {
   "cell_type": "markdown",
   "metadata": {},
   "source": [
    "# A1196 Conservation Analysis\n",
    "*Elliot Williams*\n",
    "\n",
    "*August 13th, 2019*\n",
    "\n",
    "\n",
    "**Note to users of this code**: Let me know! I would definitely be interested in whatever it is being used for.\n",
    "Also, if you publish anything using it, please cite me!\n",
    "\n",
    "\n",
    "Question: **Is A1196/A1427 (*S. cerevisiae* / *E. coli* numbering) of the 18S/16S rRNA well conserved within RSCB deposited ribosome-structures? Is this also true of C1054?**\n",
    "\n",
    "## Background\n",
    "\n",
    "The Weir Lab has been conducting MD simulations of the region of the ribosome within a 35 angstrom sphere surrounding G530 of the 16S/18S rRNA. The structures for these simulations were obtained from the five cryo-EM translocation intermediate structures obtained from [this paper](https://elifesciences.org/articles/14874), out of the Korostelev research group out of UMass Medical School.\n",
    "\n",
    "Within these simulations (presumably), it has been noticed that A1196 (which base stacks with C1054) transiently interacts via Hoogsteen/Watson-Crick base pairing with the second nucleotide of the incoming A-site codon, raising the question of a model in which the codon:anticodon base pairing is extended to 5 base pairs.\n",
    "\n",
    "The goals of this assessment is to find out whether or not the A1427 residue is well-conserved in the [RCSB](http://www.rcsb.org/)-deposited ribosome structures available. Additionally, as C1054 has been shown to [interact with the mRNA](https://academic.oup.com/nar/article/44/13/6036/2457638) during molecular dynamics simulations (as well as during our own Korostelev structure simulations), it would be interesting to look at conservation of this base within structures as well.\n",
    "\n",
    "One would expect that conservation of a residue, either on an intraspecies or interspecies level, would suggest mechanistic importance of the residue to the ribosome's function; so, getting a sense of a particular residue's level of conservation will allow us, by proxy, to get at a residue's functional importance.\n",
    "\n",
    "If we find intraspecies conservation but not interspecies conservation, we might expect that the residue is important for the ribosome's function at a species-specific level. If no conservation is found at all, it is unlikely that the residue has high functional relevance.\n",
    "\n",
    "With all of this background stated before I taint my thoughts with the analysis at hand, let us move forward to the task at hand.\n",
    "\n",
    "\n"
   ]
  },
  {
   "cell_type": "markdown",
   "metadata": {},
   "source": [
    "## Data Collection\n",
    "\n",
    "### Data Source Description\n",
    "\n",
    "The data I am collecting to conduct my analysis is sourced from the [RCSB](http://www.rcsb.org/), an online database of Protein Data Bank (PDB) files representing the 3D shapes of proteins, nucleic acids, and complex assemblies.\n",
    "\n",
    "### RCSB API implementation\n",
    "\n",
    "I'm reusing a RCSB API implementation I made last year to fetch data from the website, defined within `rcsb_api.py`.\n",
    "\n",
    "The benefit of this is that I can get any data I please, if I implement the API logic.\n",
    "The drawback is that any new queries must be implemented. \n",
    "\n",
    "See [PyPDB](http://www.wgilpin.com/pypdb_docs/html/) for a more \n",
    "mature project with more limited functionality."
   ]
  },
  {
   "cell_type": "code",
   "execution_count": 1,
   "metadata": {},
   "outputs": [],
   "source": [
    "# All dependencies, including the rcsb_api.py dependencies (of `requests`, `lxml`, `pandas`),\n",
    "# should be installed for this to work properly.\n",
    "\n",
    "# First, let's import the RCSB Python API I defined\n",
    "import rcsb_api as rcsb\n",
    "import pandas as pd\n",
    "\n",
    "# And let's set the pandas display variables\n",
    "pd.set_option('display.max_colwidth', 1000)\n",
    "pd.set_option('display.max_rows', 50)"
   ]
  },
  {
   "cell_type": "code",
   "execution_count": 2,
   "metadata": {},
   "outputs": [
    {
     "data": {
      "text/html": [
       "<div>\n",
       "<style scoped>\n",
       "    .dataframe tbody tr th:only-of-type {\n",
       "        vertical-align: middle;\n",
       "    }\n",
       "\n",
       "    .dataframe tbody tr th {\n",
       "        vertical-align: top;\n",
       "    }\n",
       "\n",
       "    .dataframe thead th {\n",
       "        text-align: right;\n",
       "    }\n",
       "</style>\n",
       "<table border=\"1\" class=\"dataframe\">\n",
       "  <thead>\n",
       "    <tr style=\"text-align: right;\">\n",
       "      <th></th>\n",
       "      <th>structureId</th>\n",
       "      <th>structureTitle</th>\n",
       "      <th>resolution</th>\n",
       "      <th>depositionDate</th>\n",
       "      <th>experimentalTechnique</th>\n",
       "      <th>residueCount</th>\n",
       "    </tr>\n",
       "  </thead>\n",
       "  <tbody>\n",
       "    <tr>\n",
       "      <td>0</td>\n",
       "      <td>1AHA</td>\n",
       "      <td>THE N-GLYCOSIDASE MECHANISM OF RIBOSOME-INACTIVATING PROTEINS IMPLIED BY CRYSTAL STRUCTURES OF ALPHA-MOMORCHARIN</td>\n",
       "      <td>2.20</td>\n",
       "      <td>1994-01-07</td>\n",
       "      <td>X-RAY DIFFRACTION</td>\n",
       "      <td>246</td>\n",
       "    </tr>\n",
       "    <tr>\n",
       "      <td>1</td>\n",
       "      <td>1AHB</td>\n",
       "      <td>THE N-GLYCOSIDASE MECHANISM OF RIBOSOME-INACTIVATING PROTEINS IMPLIED BY CRYSTAL STRUCTURES OF ALPHA-MOMORCHARIN</td>\n",
       "      <td>2.20</td>\n",
       "      <td>1994-01-07</td>\n",
       "      <td>X-RAY DIFFRACTION</td>\n",
       "      <td>246</td>\n",
       "    </tr>\n",
       "    <tr>\n",
       "      <td>2</td>\n",
       "      <td>1AHC</td>\n",
       "      <td>THE N-GLYCOSIDASE MECHANISM OF RIBOSOME-INACTIVATING PROTEINS IMPLIED BY CRYSTAL STRUCTURES OF ALPHA-MOMORCHARIN</td>\n",
       "      <td>2.00</td>\n",
       "      <td>1994-01-07</td>\n",
       "      <td>X-RAY DIFFRACTION</td>\n",
       "      <td>246</td>\n",
       "    </tr>\n",
       "    <tr>\n",
       "      <td>3</td>\n",
       "      <td>1DD5</td>\n",
       "      <td>CRYSTAL STRUCTURE OF THERMOTOGA MARITIMA RIBOSOME RECYCLING FACTOR, RRF</td>\n",
       "      <td>2.55</td>\n",
       "      <td>1999-11-08</td>\n",
       "      <td>X-RAY DIFFRACTION</td>\n",
       "      <td>185</td>\n",
       "    </tr>\n",
       "    <tr>\n",
       "      <td>4</td>\n",
       "      <td>1DK1</td>\n",
       "      <td>DETAILED VIEW OF A KEY ELEMENT OF THE RIBOSOME ASSEMBLY: CRYSTAL STRUCTURE OF THE S15-RRNA COMPLEX</td>\n",
       "      <td>2.80</td>\n",
       "      <td>1999-12-06</td>\n",
       "      <td>X-RAY DIFFRACTION</td>\n",
       "      <td>143</td>\n",
       "    </tr>\n",
       "    <tr>\n",
       "      <td>...</td>\n",
       "      <td>...</td>\n",
       "      <td>...</td>\n",
       "      <td>...</td>\n",
       "      <td>...</td>\n",
       "      <td>...</td>\n",
       "      <td>...</td>\n",
       "    </tr>\n",
       "    <tr>\n",
       "      <td>741</td>\n",
       "      <td>6S0X</td>\n",
       "      <td>Erythromycin Resistant Staphylococcus aureus 70S ribosome (delta R88 A89 uL22) in complex with erythromycin.</td>\n",
       "      <td>2.42</td>\n",
       "      <td>2019-06-18</td>\n",
       "      <td>ELECTRON MICROSCOPY</td>\n",
       "      <td>10148</td>\n",
       "    </tr>\n",
       "    <tr>\n",
       "      <td>742</td>\n",
       "      <td>6S0Z</td>\n",
       "      <td>Erythromycin Resistant Staphylococcus aureus 50S ribosome (delta R88 A89 uL22) in complex with erythromycin.</td>\n",
       "      <td>2.30</td>\n",
       "      <td>2019-06-18</td>\n",
       "      <td>ELECTRON MICROSCOPY</td>\n",
       "      <td>6125</td>\n",
       "    </tr>\n",
       "    <tr>\n",
       "      <td>743</td>\n",
       "      <td>6S12</td>\n",
       "      <td>Erythromycin Resistant Staphylococcus aureus 50S ribosome (delta R88 A89 uL22).</td>\n",
       "      <td>3.20</td>\n",
       "      <td>2019-06-18</td>\n",
       "      <td>ELECTRON MICROSCOPY</td>\n",
       "      <td>6145</td>\n",
       "    </tr>\n",
       "    <tr>\n",
       "      <td>744</td>\n",
       "      <td>6S13</td>\n",
       "      <td>Erythromycin Resistant Staphylococcus aureus 70S ribosome (delta R88 A89 uL22).</td>\n",
       "      <td>3.58</td>\n",
       "      <td>2019-06-18</td>\n",
       "      <td>ELECTRON MICROSCOPY</td>\n",
       "      <td>10167</td>\n",
       "    </tr>\n",
       "    <tr>\n",
       "      <td>745</td>\n",
       "      <td>6S47</td>\n",
       "      <td>Saccharomyces cerevisiae 80S ribosome bound with ABCF protein New1</td>\n",
       "      <td>3.28</td>\n",
       "      <td>2019-06-26</td>\n",
       "      <td>ELECTRON MICROSCOPY</td>\n",
       "      <td>17894</td>\n",
       "    </tr>\n",
       "  </tbody>\n",
       "</table>\n",
       "<p>746 rows × 6 columns</p>\n",
       "</div>"
      ],
      "text/plain": [
       "    structureId  \\\n",
       "0          1AHA   \n",
       "1          1AHB   \n",
       "2          1AHC   \n",
       "3          1DD5   \n",
       "4          1DK1   \n",
       "..          ...   \n",
       "741        6S0X   \n",
       "742        6S0Z   \n",
       "743        6S12   \n",
       "744        6S13   \n",
       "745        6S47   \n",
       "\n",
       "                                                                                                       structureTitle  \\\n",
       "0    THE N-GLYCOSIDASE MECHANISM OF RIBOSOME-INACTIVATING PROTEINS IMPLIED BY CRYSTAL STRUCTURES OF ALPHA-MOMORCHARIN   \n",
       "1    THE N-GLYCOSIDASE MECHANISM OF RIBOSOME-INACTIVATING PROTEINS IMPLIED BY CRYSTAL STRUCTURES OF ALPHA-MOMORCHARIN   \n",
       "2    THE N-GLYCOSIDASE MECHANISM OF RIBOSOME-INACTIVATING PROTEINS IMPLIED BY CRYSTAL STRUCTURES OF ALPHA-MOMORCHARIN   \n",
       "3                                             CRYSTAL STRUCTURE OF THERMOTOGA MARITIMA RIBOSOME RECYCLING FACTOR, RRF   \n",
       "4                  DETAILED VIEW OF A KEY ELEMENT OF THE RIBOSOME ASSEMBLY: CRYSTAL STRUCTURE OF THE S15-RRNA COMPLEX   \n",
       "..                                                                                                                ...   \n",
       "741      Erythromycin Resistant Staphylococcus aureus 70S ribosome (delta R88 A89 uL22) in complex with erythromycin.   \n",
       "742      Erythromycin Resistant Staphylococcus aureus 50S ribosome (delta R88 A89 uL22) in complex with erythromycin.   \n",
       "743                                   Erythromycin Resistant Staphylococcus aureus 50S ribosome (delta R88 A89 uL22).   \n",
       "744                                   Erythromycin Resistant Staphylococcus aureus 70S ribosome (delta R88 A89 uL22).   \n",
       "745                                                Saccharomyces cerevisiae 80S ribosome bound with ABCF protein New1   \n",
       "\n",
       "     resolution depositionDate experimentalTechnique  residueCount  \n",
       "0          2.20     1994-01-07     X-RAY DIFFRACTION           246  \n",
       "1          2.20     1994-01-07     X-RAY DIFFRACTION           246  \n",
       "2          2.00     1994-01-07     X-RAY DIFFRACTION           246  \n",
       "3          2.55     1999-11-08     X-RAY DIFFRACTION           185  \n",
       "4          2.80     1999-12-06     X-RAY DIFFRACTION           143  \n",
       "..          ...            ...                   ...           ...  \n",
       "741        2.42     2019-06-18   ELECTRON MICROSCOPY         10148  \n",
       "742        2.30     2019-06-18   ELECTRON MICROSCOPY          6125  \n",
       "743        3.20     2019-06-18   ELECTRON MICROSCOPY          6145  \n",
       "744        3.58     2019-06-18   ELECTRON MICROSCOPY         10167  \n",
       "745        3.28     2019-06-26   ELECTRON MICROSCOPY         17894  \n",
       "\n",
       "[746 rows x 6 columns]"
      ]
     },
     "metadata": {},
     "output_type": "display_data"
    }
   ],
   "source": [
    "# Then, let's query for all PDB IDs which have 'ribosome' in their title\n",
    "pdb_ids = rcsb.query_for_pdb_ids(queryTitle=\"ribosome\", verbose=False)\n",
    "# And let's get all associated metadata with these IDs so we can see \n",
    "pdb_ids_w_info = rcsb.get_info_from_ids(pdb_ids)\n",
    "\n",
    "# # The following lines print the DataFrame in full\n",
    "# with pd.option_context('display.max_rows', None, \n",
    "#                        'display.max_columns', None,\n",
    "#                        'display.max_colwidth', None):\n",
    "#     display(pdb_ids_w_info)\n",
    "\n",
    "# I don't want to keep scrolling past this, so let's actually only print some rows\n",
    "display(pdb_ids_w_info)"
   ]
  },
  {
   "cell_type": "markdown",
   "metadata": {},
   "source": [
    "## PDB ID Filtering\n",
    "\n",
    "It is obvious if you look through the titles that only some of these structures are even of the ribosome, let alone structures containing the 16S/18S rRNA. So, let's try to get a list of what elements these structures contain, such that we can obtain only the structures we want, we need to apply a filter.\n",
    "\n",
    "We only want structures with the 16S/18S rRNA, so let's get the descriptions of the chains of each structure,\n",
    "and use it as a filtering condition.\n",
    "\n",
    "As an example, let's see what the chain descriptions of one structure look like:"
   ]
  },
  {
   "cell_type": "code",
   "execution_count": 3,
   "metadata": {},
   "outputs": [
    {
     "data": {
      "text/plain": [
       "0                         23S ribosomal RNA\n",
       "1                 50S ribosomal protein L15\n",
       "2                 50S ribosomal protein L16\n",
       "3                 50S ribosomal protein L17\n",
       "4                 50S ribosomal protein L18\n",
       "                      ...                  \n",
       "47    Ribosome hibernation promoting factor\n",
       "48                 50S ribosomal protein L5\n",
       "49                 50S ribosomal protein L6\n",
       "50                50S ribosomal protein L13\n",
       "51                50S ribosomal protein L14\n",
       "Name: Description, Length: 52, dtype: object"
      ]
     },
     "execution_count": 3,
     "metadata": {},
     "output_type": "execute_result"
    }
   ],
   "source": [
    "rcsb.describe_chains(\"6S0X\").Description"
   ]
  },
  {
   "cell_type": "markdown",
   "metadata": {},
   "source": [
    "Let's collect this information for all of our PDB IDs,\n",
    "and try to see how many possible chain names there are."
   ]
  },
  {
   "cell_type": "code",
   "execution_count": 4,
   "metadata": {},
   "outputs": [
    {
     "name": "stdout",
     "output_type": "stream",
     "text": [
      "Getting chains for 1AHA (1/746)\n",
      "Getting chains for 1RY1 (51/746)\n",
      "Getting chains for 2QES (101/746)\n",
      "Getting chains for 3JAJ (151/746)\n",
      "Getting chains for 4CSU (201/746)\n",
      "Getting chains for 4TUE (251/746)\n",
      "Getting chains for 4V50 (301/746)\n",
      "Getting chains for 4V7E (351/746)\n",
      "Getting chains for 4W29 (401/746)\n",
      "Getting chains for 5BY8 (451/746)\n",
      "Getting chains for 5J88 (501/746)\n",
      "Getting chains for 5NDJ (551/746)\n",
      "Getting chains for 5WFS (601/746)\n",
      "Getting chains for 6FKR (651/746)\n",
      "Getting chains for 6MTC (701/746)\n"
     ]
    }
   ],
   "source": [
    "# Sets containing all unique chain names and descriptions in all structures\n",
    "chain_name_set = set()\n",
    "chain_description_set = set()\n",
    "\n",
    "for (index, pdb_id) in enumerate(pdb_ids):\n",
    "    # Prints out string to update on progress\n",
    "    if index % 50 == 0:\n",
    "        print(\"Getting chains for %s (%d/%d)\" % (pdb_id, index+1, len(pdb_ids)))\n",
    "    \n",
    "    # Attempts to get chain descriptions from the API \n",
    "    # (HTTP request could fail due to flakiness; will print out if so)\n",
    "    try:\n",
    "        chain_df = rcsb.describe_chains(pdb_id)\n",
    "        for chain_name in chain_df.Name:\n",
    "            chain_name_set.add(chain_name)\n",
    "        for chain_description in chain_df.Description:\n",
    "            chain_description_set.add(chain_description)\n",
    "    except:\n",
    "        print(\"Failed to get chains for structure %s\" % pdb_id)"
   ]
  },
  {
   "cell_type": "code",
   "execution_count": 5,
   "metadata": {},
   "outputs": [
    {
     "name": "stdout",
     "output_type": "stream",
     "text": [
      "There are 1024 unique chain names\n",
      "There are 3291 unique chain descriptions\n"
     ]
    }
   ],
   "source": [
    "# Let's see how many unique chain names and chain descriptions there are\n",
    "print(\"There are %d unique chain names\" % len(chain_name_set))\n",
    "print(\"There are %d unique chain descriptions\" % len(chain_description_set))"
   ]
  },
  {
   "cell_type": "code",
   "execution_count": 6,
   "metadata": {},
   "outputs": [
    {
     "data": {
      "text/plain": [
       "['40S ribosomal protein S10, putative',\n",
       " '50S ribosomal protein L15, chloroplastic',\n",
       " '28S ribosomal protein S10, mitochondrial',\n",
       " '60S ribosomal subunit protein L31, putative',\n",
       " 'Ribosomal protein L17',\n",
       " '37S ribosomal protein S28, mitochondrial',\n",
       " 'Apolipoprotein A-I',\n",
       " '50S ribosomal protein L18, chloroplastic',\n",
       " '40S ribosomal protein S14',\n",
       " 'Putative U3 snoRNP protein',\n",
       " 'Ribosomal protein L34a, isoform C',\n",
       " '30S ribosomal protein S13',\n",
       " 'Signal recognition particle receptor subunit beta',\n",
       " '60S ribosomal protein L31',\n",
       " 'Mitochondrial ribosomal protein S11',\n",
       " '40S ribosomal protein S14b',\n",
       " 'Mitoribosomal protein bs18m, mrps18c',\n",
       " '40S ribosomal protein S28-B',\n",
       " 'Beta-galactoside-specific lectin 4']"
      ]
     },
     "metadata": {},
     "output_type": "display_data"
    }
   ],
   "source": [
    "# What do chain names tend to look like?\n",
    "display(list(chain_name_set)[1:20])"
   ]
  },
  {
   "cell_type": "code",
   "execution_count": 7,
   "metadata": {},
   "outputs": [
    {
     "data": {
      "text/plain": [
       "['GUANINE NUCLEOTIDE-BINDING PROTEIN SUBUNIT BETA-2-LIKE 1',\n",
       " '40S RIBOSOMAL PROTEIN S21, PUTATIVE',\n",
       " 'Apolipoprotein A-I',\n",
       " '40S ribosomal protein rpS30 (S30e)',\n",
       " 'plastid ribosomal protein uL5c',\n",
       " '40S ribosomal protein S7-like protein',\n",
       " 'MITORIBOSOMAL PROTEIN ML42, MRPL42',\n",
       " 'Mitochondrial 16S ribosomal RNA',\n",
       " 'ribosomal protein eS4',\n",
       " 'eS31',\n",
       " '40S ribosomal protein S28-B',\n",
       " 'uS5 (yeast S2)',\n",
       " '60S ribosomal protein L43E',\n",
       " 'Selenocysteine-specific elongation factor',\n",
       " '39S ribosomal protein L44, mitochondrial',\n",
       " '40S ribosomal protein S15',\n",
       " 'Ribosomal protein s1e',\n",
       " 'A-site tRNA',\n",
       " 'uS11 (yeast S14)']"
      ]
     },
     "metadata": {},
     "output_type": "display_data"
    }
   ],
   "source": [
    "# What do chain descriptions tend to look like?\n",
    "display(list(chain_description_set)[1:20])"
   ]
  },
  {
   "cell_type": "markdown",
   "metadata": {},
   "source": [
    "It seems at first glance that chain names and chain descriptions are used mostly interchangeably. "
   ]
  },
  {
   "cell_type": "code",
   "execution_count": 8,
   "metadata": {},
   "outputs": [
    {
     "data": {
      "text/plain": [
       "['Mitoribosomal protein bs18m, mrps18c',\n",
       " 'Tetracycline resistance protein TetM from transposon Tn916',\n",
       " 'Ribosomal protein S16',\n",
       " '40S ribosomal protein S16, putative',\n",
       " '28S ribosomal protein S18c, mitochondrial',\n",
       " '30S ribosomal protein S18, chloroplastic',\n",
       " '50S ribosomal protein L18Ae',\n",
       " '60S ribosomal protein L11 (L5, L16)',\n",
       " '30S ribosomal protein S16, chloroplastic',\n",
       " 'etc...']"
      ]
     },
     "metadata": {},
     "output_type": "display_data"
    }
   ],
   "source": [
    "# Let's try printing all chain names with \"16\" or \"18\" in their names,\n",
    "# to give us an idea of what kind of filters would work to get all of the 16S/18S rRNA Structures\n",
    "# (Note: For display purposes, only printing first 10 names)\n",
    "display(list(filter(lambda x: (\"16\" in x) or (\"18\" in x), chain_name_set ))[0:10] + [\"etc...\"])"
   ]
  },
  {
   "cell_type": "code",
   "execution_count": 9,
   "metadata": {},
   "outputs": [
    {
     "data": {
      "text/plain": [
       "['50S Ribosomal Protein L16',\n",
       " '18S RIBOSOMAL RNA',\n",
       " '40S ribosomal protein rpS16 (S9p)',\n",
       " 'MRPL18',\n",
       " '16S RIBOSOMAL RNA',\n",
       " '50S ribosomal protein L10E/L16',\n",
       " '30S Ribosomal Protein S18',\n",
       " 'Ribosomal protein S16',\n",
       " '40S ribosomal protein S16(A)',\n",
       " 'etc...']"
      ]
     },
     "metadata": {},
     "output_type": "display_data"
    }
   ],
   "source": [
    "# Do the same for chain descriptions\n",
    "# (Note: For display purposes, only printing first 10 descriptions)\n",
    "display(list(filter(lambda x: (\"16\" in x) or (\"18\" in x), chain_description_set ))[0:10]+ [\"etc...\"])"
   ]
  },
  {
   "cell_type": "markdown",
   "metadata": {},
   "source": [
    "Having looked through all of these chain names and decriptions, I'm officially convinced that the vast majority of 16S/18S rRNA candidates will have `16S` or `18S` in the their descriptions\n",
    "\n",
    "So, let's filter our set of structures to just contain those that have 16S or 18S in their descriptions."
   ]
  },
  {
   "cell_type": "code",
   "execution_count": 10,
   "metadata": {},
   "outputs": [],
   "source": [
    "# This function returns a bool representing whether or not the\n",
    "# PDB structure has any of the given substrings in any of its chain names,\n",
    "# chain descriptions, or both (depending on value of query_fields).\n",
    "#\n",
    "# Input:\n",
    "#   pdb_id : PDB ID of structure we want to evaluate\n",
    "#   substring_list : List of substrings to query on\n",
    "#   query_fields : Which pdb chain column(s) we want to filter on\n",
    "#                  (must be sublist of [\"Name\", \"Description\"])\n",
    "#   num_attempts : The number of times to try the HTTP request to the RCSB API before\n",
    "#                  giving up (and returning False)\n",
    "# \n",
    "# Output:\n",
    "#   Whether or not the PDB structure contains any chains satisfying these conditions.\n",
    "# \n",
    "# EG  `chainFieldsContainSubstrings([\"16S\", \"18S\"], \"5JUP\", [\"Description\"])`\n",
    "# should return `True`, as it has 18S chain description\n",
    "# \n",
    "# And `chainFieldsContainSubstrings([\"16S\", \"18S\"], \"5JUP\", [\"Name\", \"Description\"])`\n",
    "# should return `True`, as it has 18S chain description, but no 18S chain name\n",
    "# \n",
    "# But `chainFieldsContainSubstrings([\"16S\", \"18S\"], \"5JUP\", [\"Name\"])`\n",
    "# should return `False`, as it has no 18S chain description\n",
    "def chainFieldsContainSubstrings(pdb_id, substring_list, \n",
    "                                 query_fields=[\"Name\", \"Description\"],\n",
    "                                 num_attempts=3):    \n",
    "    # Retries the RCSB query multiple times (to reduce flakiness)\n",
    "    num_attempted = 0\n",
    "    success = False\n",
    "    while (num_attempted < num_attempts):\n",
    "        try:\n",
    "            chain_df = rcsb.describe_chains(pdb_id)\n",
    "            success = True\n",
    "            break\n",
    "        except:\n",
    "            num_attempted += 1\n",
    "    if not success:\n",
    "        print(\"Failed to obtain chains from '%s'\" % pdb_id)\n",
    "        return False\n",
    "    \n",
    "    # Returns `True` if any of the substrings are in any of the chain names\n",
    "    if \"Name\" in query_fields:\n",
    "        for chain_name in chain_df.Name:\n",
    "            for substring in substring_list:\n",
    "                if substring in chain_name:\n",
    "                    return True\n",
    "    # Returns `True` if any of the substrings are in any of the chain descriptions\n",
    "    if \"Description\" in query_fields:\n",
    "        for chain_description in chain_df.Description:\n",
    "            for substring in substring_list:\n",
    "                if substring in chain_description:\n",
    "                    return True\n",
    "                \n",
    "    # Otherwise, return `False`\n",
    "    return False"
   ]
  },
  {
   "cell_type": "code",
   "execution_count": 14,
   "metadata": {},
   "outputs": [
    {
     "data": {
      "text/plain": [
       "True"
      ]
     },
     "execution_count": 14,
     "metadata": {},
     "output_type": "execute_result"
    }
   ],
   "source": [
    "# Let's test this function works properly\n",
    "(chainFieldsContainSubstrings(\"5JUP\", [\"16S\",\"18S\"], [\"Name\", \"Description\"]) and\n",
    " not chainFieldsContainSubstrings(\"5JUP\", [\"16S\",\"18S\"], [\"Name\"]) and\n",
    " chainFieldsContainSubstrings(\"5JUP\", [\"16S\",\"18S\"], [\"Description\"]))"
   ]
  },
  {
   "cell_type": "markdown",
   "metadata": {},
   "source": [
    "Now I'm convinced the function actually works as it is supposed to, let's apply\n",
    "the filter to our PDB IDs, such that we only have IDs with 16S or 18S."
   ]
  },
  {
   "cell_type": "code",
   "execution_count": 12,
   "metadata": {},
   "outputs": [
    {
     "name": "stdout",
     "output_type": "stream",
     "text": [
      "Filtering structure ''1AHA' (1/746)\n",
      "Filtering structure ''1RY1' (51/746)\n",
      "Filtering structure ''2QES' (101/746)\n",
      "Filtering structure ''3JAJ' (151/746)\n",
      "Filtering structure ''4CSU' (201/746)\n",
      "Filtering structure ''4TUE' (251/746)\n",
      "Filtering structure ''4V50' (301/746)\n",
      "Filtering structure ''4V7E' (351/746)\n",
      "Filtering structure ''4W29' (401/746)\n",
      "Filtering structure ''5BY8' (451/746)\n",
      "Filtering structure ''5J88' (501/746)\n",
      "Filtering structure ''5NDJ' (551/746)\n",
      "Filtering structure ''5WFS' (601/746)\n",
      "Filtering structure ''6FKR' (651/746)\n",
      "Filtering structure ''6MTC' (701/746)\n",
      "['1EG0', '1JGO', '1JGP', '1JGQ', '1MVR', '1QZC', '1T1M', '1T1O', '1TRJ', '1VVJ', '1VY4', '1VY5', '1VY6', '1VY7', '1ZC8', '2F4V', '2FTC', '2NOQ', '2OM7', '3J0D', '3J0E', '3J16', '3J5S', '3J6X', '3J6Y', '3J77', '3J78', '3J7A', '3J7P', '3J7R', '3J9M', '3J9W', '3J9Y', '3JAJ', '3JAN', '3JBN', '3JBO', '3JBP', '3JBU', '3JCD', '3JCE', '3JCJ', '3JCN', '486D', '4AQY', '4B3M', '4B3R', '4B3S', '4B3T', '4CE4', '4CXG', '4CXH', '4L47', '4L71', '4LEL', '4LNT', '4LSK', '4LT8', '4P6F', '4P70', '4TUA', '4TUB', '4TUC', '4TUD', '4TUE', '4U1U', '4U1V', '4U20', '4U24', '4U25', '4U26', '4U27', '4U3M', '4U3N', '4U3U', '4U4N', '4U4O', '4U4Q', '4U4R', '4U4U', '4U4Y', '4U4Z', '4U50', '4U51', '4U52', '4U53', '4U55', '4U56', '4U6F', '4UG0', '4UJE', '4V19', '4V3P', '4V42', '4V47', '4V48', '4V49', '4V4A', '4V4G', '4V4H', '4V4I', '4V4J', '4V4N', '4V4P', '4V4Q', '4V4V', '4V4W', '4V4X', '4V4Y', '4V4Z', '4V50', '4V51', '4V52', '4V53', '4V54', '4V55', '4V56', '4V57', '4V5A', '4V5B', '4V5C', '4V5D', '4V5E', '4V5F', '4V5G', '4V5H', '4V5J', '4V5K', '4V5L', '4V5M', '4V5N', '4V5P', '4V5Q', '4V5R', '4V5S', '4V5Y', '4V5Z', '4V61', '4V63', '4V64', '4V65', '4V66', '4V68', '4V69', '4V6A', '4V6C', '4V6D', '4V6E', '4V6F', '4V6G', '4V6I', '4V6M', '4V6N', '4V6T', '4V6U', '4V6V', '4V6W', '4V6X', '4V7C', '4V7D', '4V7E', '4V7H', '4V7I', '4V7L', '4V7M', '4V7R', '4V7S', '4V7T', '4V7U', '4V7V', '4V7W', '4V7X', '4V7Y', '4V7Z', '4V83', '4V84', '4V85', '4V88', '4V89', '4V8A', '4V8G', '4V8H', '4V8I', '4V8J', '4V8M', '4V8N', '4V8O', '4V8Q', '4V8U', '4V8X', '4V90', '4V92', '4V95', '4V97', '4V9A', '4V9B', '4V9C', '4V9D', '4V9H', '4V9J', '4V9K', '4V9L', '4V9M', '4V9N', '4V9Q', '4V9R', '4V9S', '4W29', '4W2E', '4W2F', '4W2G', '4W2H', '4W2I', '4WF1', '4WOI', '4WPO', '4WQ1', '4WQF', '4WQR', '4WQU', '4WQY', '4WR6', '4WRA', '4WRO', '4WSD', '4WSM', '4WT1', '4WU1', '4WWW', '4WZD', '4WZO', '4XEJ', '4Y4O', '4Y4P', '4YBB', '4Z3S', '4Z8C', '5A2Q', '5A9Z', '5AA0', '5AFI', '5AJ4', '5D8B', '5DAT', '5DC3', '5DGE', '5DGF', '5DOX', '5DOY', '5E7K', '5E81', '5EL4', '5EL5', '5EL6', '5EL7', '5F8K', '5FCI', '5FCJ', '5FDU', '5FDV', '5HAU', '5HCP', '5HCQ', '5HCR', '5HD1', '5I4L', '5IB7', '5IB8', '5IBB', '5IMQ', '5IMR', '5IT7', '5IT8', '5J4B', '5J4C', '5J4D', '5J5B', '5J7L', '5J88', '5J8A', '5J8B', '5J91', '5JC9', '5JPQ', '5JTE', '5JU8', '5JUO', '5JUP', '5JUS', '5JUT', '5JUU', '5KCR', '5KCS', '5KPS', '5KPV', '5KPW', '5KPX', '5L3P', '5LI0', '5LKS', '5LL6', '5LYB', '5LZA', '5LZB', '5LZC', '5LZD', '5LZE', '5LZF', '5MC6', '5MDV', '5MDW', '5MDY', '5MDZ', '5MMJ', '5MMM', '5MYJ', '5ND8', '5ND9', '5NDG', '5NDJ', '5NDK', '5NDW', '5NGM', '5NJT', '5NWY', '5O2R', '5O61', '5OOL', '5OOM', '5OT7', '5T2A', '5T2C', '5T7V', '5TCU', '5TGA', '5TGM', '5U4I', '5U4J', '5U9F', '5U9G', '5UQ7', '5UQ8', '5UYK', '5UYL', '5UYM', '5UYN', '5UYP', '5UYQ', '5UZ4', '5V8I', '5V93', '5VP2', '5W4K', '5WDT', '5WE4', '5WE6', '5WF0', '5WFK', '5WFS', '5WIS', '5WIT', '5WYJ', '5WYK', '5X8P', '5X8R', '5XXU', '5XYI', '5XYU', '5YDT', '5ZEB', '5ZEP', '5ZLU', '6AZ1', '6B4V', '6BOH', '6BOK', '6BU8', '6CAE', '6CFJ', '6CFK', '6CFL', '6CZR', '6D90', '6D9J', '6DNC', '6DZI', '6EK0', '6ENF', '6ENJ', '6ENU', '6ERI', '6FXC', '6GAW', '6GSJ', '6GSK', '6GSL', '6GWT', '6GXM', '6GXN', '6GXO', '6GXP', '6GZ3', '6GZ4', '6GZ5', '6GZQ', '6GZX', '6GZZ', '6H4N', '6H58', '6HA1', '6HA8', '6HCF', '6HCJ', '6HCM', '6HCQ', '6HHQ', '6HRM', '6I7O', '6IP5', '6IP6', '6IP8', '6MTB', '6MTC', '6MTD', '6MTE', '6N9E', '6N9F', '6ND5', '6ND6', '6NU2', '6NU3', '6NY6', '6O97', '6O9J', '6OF1', '6OKK', '6OLE', '6OLF', '6OLG', '6OLI', '6OLZ', '6OM0', '6OM7', '6Q8Y', '6Q95', '6Q97', '6Q98', '6Q9A', '6QNQ', '6QNR', '6QZP', '6R5Q', '6R6G', '6R6P', '6RM3', '6S0X', '6S13', '6S47']\n"
     ]
    }
   ],
   "source": [
    "desired_pdb_ids = []\n",
    "for (index, pdb_id) in enumerate(pdb_ids):\n",
    "    # Prints out string to update on progress\n",
    "    if index % 50 == 0:\n",
    "        print(\"Filtering structure ''%s' (%d/%d)\" % (pdb_id, index+1, len(pdb_ids)))\n",
    "\n",
    "    if chainFieldsContainSubstrings(pdb_id, substring_list=[\"16S\", \"18S\"],\n",
    "                                    query_fields=[\"Description\"]):\n",
    "        desired_pdb_ids.append(pdb_id)"
   ]
  },
  {
   "cell_type": "code",
   "execution_count": 13,
   "metadata": {},
   "outputs": [
    {
     "name": "stdout",
     "output_type": "stream",
     "text": [
      "458\n"
     ]
    }
   ],
   "source": [
    "print(len(desired_pdb_ids))"
   ]
  },
  {
   "cell_type": "code",
   "execution_count": 24,
   "metadata": {},
   "outputs": [
    {
     "name": "stdout",
     "output_type": "stream",
     "text": [
      "Getting chains for 1EG0 (1/458)\n",
      "Getting chains for 4CXG (51/458)\n",
      "Getting chains for 4V4I (101/458)\n",
      "Getting chains for 4V6I (151/458)\n",
      "Getting chains for 4V9K (201/458)\n",
      "Getting chains for 5E81 (251/458)\n",
      "Getting chains for 5LL6 (301/458)\n",
      "Getting chains for 5V93 (351/458)\n",
      "Getting chains for 6GXP (401/458)\n",
      "Getting chains for 6QZP (451/458)\n"
     ]
    }
   ],
   "source": [
    "# Let's see how many 16S/18S rRNA candidates we have in all those structures\n",
    "# (and which structures, if any, have repeats)\n",
    "chain_list = []\n",
    "id_seen_once = set()\n",
    "id_seen_twice = set()\n",
    "\n",
    "for (index, pdb_id) in enumerate(desired_pdb_ids):\n",
    "    # Prints out string to update on progress\n",
    "    if index % 50 == 0:\n",
    "        print(\"Getting chains for %s (%d/%d)\" % (pdb_id, index+1, len(desired_pdb_ids)))\n",
    "    \n",
    "    # Attempts to get chain descriptions from the API \n",
    "    # (HTTP request could fail due to flakiness; will print out if so)\n",
    "    try:\n",
    "        chain_df = rcsb.describe_chains(pdb_id)\n",
    "        for chain_description in chain_df.Description:\n",
    "            if \"16S\" in chain_description or \"18S\" in chain_description:\n",
    "                chain_list.append((pdb_id, chain_description))\n",
    "                if pdb_id not in id_seen_once:\n",
    "                    id_seen_once.add(pdb_id)\n",
    "                else:\n",
    "                    id_seen_twice.add(pdb_id)\n",
    "    except:\n",
    "        print(\"Failed to get chains for structure %s\" % pdb_id)"
   ]
  },
  {
   "cell_type": "code",
   "execution_count": 28,
   "metadata": {},
   "outputs": [
    {
     "name": "stdout",
     "output_type": "stream",
     "text": [
      "458\n"
     ]
    }
   ],
   "source": [
    "print(len(chain_list))"
   ]
  },
  {
   "cell_type": "markdown",
   "metadata": {},
   "source": [
    "Notably, 507 != 458. So, let's see which structures have repeats."
   ]
  },
  {
   "cell_type": "code",
   "execution_count": 26,
   "metadata": {},
   "outputs": [
    {
     "name": "stdout",
     "output_type": "stream",
     "text": [
      "458\n",
      "['6BOK', '4WR6', '6HCM', '4CXG', '6OLF', '5J4D', '1ZC8', '4V6D', '1TRJ', '6OLI', '4V6F', '486D', '4V7T', '5MYJ', '6I7O', '6OM0', '2OM7', '3J0E', '4V7V', '3J0D', '4V88', '6B4V', '5W4K', '6BOH', '4V7S', '4CXH', '6OM7', '1MVR', '4V6C', '4V6E', '6HCF', '4WU1', '6OLE', '4WQ1', '2NOQ']\n",
      "35\n"
     ]
    }
   ],
   "source": [
    "print(len(id_seen_once))\n",
    "print(list(id_seen_twice))\n",
    "print(len(id_seen_twice))"
   ]
  },
  {
   "cell_type": "markdown",
   "metadata": {},
   "source": [
    "After a brief look at the FASTA files of those structures, it seems that they mostly have repeated 16S rRNA chains with identical sequences. We'll treat this more rigorously later."
   ]
  },
  {
   "cell_type": "code",
   "execution_count": null,
   "metadata": {},
   "outputs": [],
   "source": []
  },
  {
   "cell_type": "markdown",
   "metadata": {},
   "source": [
    "## Afterword: My Analysis Technique\n",
    "\n",
    "The layout of this notebook was inspired by [this paper](https://arxiv.org/abs/1901.08152) about formatting notebook formats to maximize reproduciblity of data science analyses, drawing from the principles of predictability, computatibility, and stability. \n",
    "\n",
    "IE if someone else did this analysis, if I did my job right, they should always get the same conclusions as they will always know which judgement calls I made over the course of my analysis."
   ]
  }
 ],
 "metadata": {
  "kernelspec": {
   "display_name": "Python 3",
   "language": "python",
   "name": "python3"
  },
  "language_info": {
   "codemirror_mode": {
    "name": "ipython",
    "version": 3
   },
   "file_extension": ".py",
   "mimetype": "text/x-python",
   "name": "python",
   "nbconvert_exporter": "python",
   "pygments_lexer": "ipython3",
   "version": "3.7.3"
  }
 },
 "nbformat": 4,
 "nbformat_minor": 4
}
